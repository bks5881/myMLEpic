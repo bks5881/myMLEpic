{
 "cells": [
  {
   "cell_type": "markdown",
   "metadata": {},
   "source": [
    "Please fill in your name and that of your teammate.\n",
    "\n",
    "You: Bhargav Solanki\n",
    "\n",
    "Teammate: Carmen Sangro Prieto"
   ]
  },
  {
   "cell_type": "markdown",
   "metadata": {},
   "source": [
    "# Introduction"
   ]
  },
  {
   "cell_type": "markdown",
   "metadata": {},
   "source": [
    "Welcome to the second lab. I hope this environment is starting to look more familiar, and that you learned some of the shortcuts. At least try to use shortcuts to evaluate a cell, create a cell above or below the current, and switch between code and markdown, as these will dramatically improve your efficiency and significantly cut the time it takes to complete the assignment.  \n",
    "Also, if you have not tried LaTeX in the previous assignment, give it a try in this one $y=mx+q$: a little practice goes a long way for when you will need to write more complex equations and LaTeX will be required (e.g. future assignments + exam)."
   ]
  },
  {
   "cell_type": "markdown",
   "metadata": {},
   "source": [
    "Today's assignment is likely going to be a bit more time consuming than last week. And there is _a lot_ of Python.  I received multiple emails from people who are not confident in their Python skills or are worried having to learn it now in parallel with the main class content. I understand the concern and will be sure to hold your hand step by step in learning and practicing the required skills even if you have no prior experience.  \n",
    "Please understand nonetheless that proficiency in Python as seen here will be mandatory to pass the exam, so give it your best effort. You may want to start completing this assignment for example a few days before the deadline, to leave yourself time to ask any question on Moodle if needed."
   ]
  },
  {
   "cell_type": "markdown",
   "metadata": {},
   "source": [
    "Last week we introduced three libraries: `numpy` does the main number crunching in Python; `matplotlib` is the foundation of most plotting; and `seaborn` wraps the plotting in a convenient interface and eye-pleasing defaults."
   ]
  },
  {
   "cell_type": "markdown",
   "metadata": {},
   "source": [
    "Today we introduce **Scikit-learn**, another heavy-weight library in the field which provides basic (but high-quality and fast) data analysis and ML tools.  \n",
    "Head over to the home page of [Scikit-learn](https://scikit-learn.org/stable/): how many of the concepts are you already familiar with? Over the next week you will become confident in almost each single word used in that page. Also check out the [user manual](https://scikit-learn.org/stable/user_guide.html) for an overview of the methods at your disposal.  "
   ]
  },
  {
   "cell_type": "markdown",
   "metadata": {},
   "source": [
    "### How to pass the lab?"
   ]
  },
  {
   "cell_type": "markdown",
   "metadata": {},
   "source": [
    "Below you find the exercise questions. Each question awarding points is numbered and states the number of points like this: **[0pts]**. To answer a question, fill the cell below with your answer (markdown for text, code for implementation). Incorrect or incomplete answers are in principle worth 0 points: to assign partial reward is only up to teacher discretion. Over-complete answers do not award extra points (though they are appreciated and will be kept under consideration). Save your work frequently! (`ctrl+s`)\n",
    "\n",
    "**You need at least 14 points (out of 21 available) to pass** (66%)."
   ]
  },
  {
   "cell_type": "markdown",
   "metadata": {},
   "source": [
    "# 1. Fundamentals"
   ]
  },
  {
   "cell_type": "markdown",
   "metadata": {},
   "source": [
    "The topics of *Classification* and *Feature* are fundamental ML concepts. Today's lecture has barely scratched the surface, especially if you think Data Analysis as a goal rather than a simple step, so we will explore these topics in further detail in the upcoming weeks. Let's make sure to have a solid grasp of these concepts before moving ahead."
   ]
  },
  {
   "cell_type": "markdown",
   "metadata": {},
   "source": [
    "Again, let's start easy. Here is an example dataset of snakes. It has three fields: `head size`, `length` (in cm) and whether it is `poisonous` or not. It looks like this:\n",
    "\n",
    "```python\n",
    "snakes = [['small', 38, False],\n",
    "          ['small', 62, True],\n",
    "          ['medium', 55, True]]\n",
    "```\n",
    "\n",
    "This simple list of lists puts the emphasis on the data points (the rows), which is an intuitive approach at first for humans to manually write down the data. You will often encounter tables, JSON and CSV files that look like this. We will explore more machine-friendly formats later (spoilers: column-oriented), so understand this approach is just a step for ease of comprehension."
   ]
  },
  {
   "cell_type": "markdown",
   "metadata": {},
   "source": [
    "Let's lighten the mood by focusing on cats and dogs instead for your exercise."
   ]
  },
  {
   "cell_type": "markdown",
   "metadata": {},
   "source": [
    "#### 1.1 **[1pt]** Name three features that are highly discriminative to classify cats from dogs, and three which are not."
   ]
  },
  {
   "cell_type": "markdown",
   "metadata": {},
   "source": [
    "$Discriminative$\n",
    "\n",
    "|  Features  |      Dogs      |  Cats |\n",
    "|----------|:-------------:|------:|\n",
    "| Sound    |  Barks   | Meows |\n",
    "| Heavy Breathing |    True   |   False |\n",
    "| Retractable Claws | False |    True |\n",
    "\n",
    "$Non Discriminative$\n",
    "\n",
    "|  Features  |      Dogs      |  Cats |\n",
    "|----------|:-------------:|------:|\n",
    "| Tailsize    |  Small, Medium, Large   | Small, Medium, Large |\n",
    "| hasFur|    True   |   True |\n",
    "| Eye color | Any |    Any |"
   ]
  },
  {
   "cell_type": "markdown",
   "metadata": {},
   "source": [
    "#### 1.2 **[1pt]** Is \"number of legs\" a numeric feature? Is it discrete or continuous? Is it ordinal? What about \"length of tail\"?"
   ]
  },
  {
   "cell_type": "markdown",
   "metadata": {},
   "source": [
    "Careful not to confuse \"discrete cardinal\" with \"continuous\". If you cannot tell the difference, refresh the concept!"
   ]
  },
  {
   "cell_type": "markdown",
   "metadata": {},
   "source": [
    "Number of legs is a Numeric feature. Its Discrete and cardinal( We can answer \"how many?\"). The length of the tail is Numeric and Continuous "
   ]
  },
  {
   "cell_type": "markdown",
   "metadata": {},
   "source": [
    "#### 1.3 **[1pt]** Write a dataset named `pets` containing cats and dogs, with at least 3 features and 5 entries. Write the corresponding labels in a variable named `labels`. Save the feature names in a variable named `feature_names`."
   ]
  },
  {
   "cell_type": "markdown",
   "metadata": {},
   "source": [
    "Make sure to include some small dog and large cat, such that their size is not highly discriminant. You can write more data if you want, but do not go overboard, your goal for now is uniquely to pass the assignment. We will load some demo dataset with Scikit-learn later."
   ]
  },
  {
   "cell_type": "code",
   "execution_count": 263,
   "metadata": {},
   "outputs": [],
   "source": [
    "labels = ['Dog', 'Cat', 'Dog', 'Cat', 'Cat']\n",
    "feature_names = ['Height', 'Barks', 'Retractable Claws', 'Weight']\n",
    "pets = [\n",
    "            [90, True, False, 30],\n",
    "            [95, False, True, 35],\n",
    "            [45, True, False, 18],\n",
    "            [70, False, True, 22],\n",
    "            [22, False, True, 7]\n",
    "       ]\n"
   ]
  },
  {
   "cell_type": "markdown",
   "metadata": {},
   "source": [
    "Human input means human errors: let's validate the length of these lists using `assert`, which is a Python keyword that will raise an error if its parameter is false (and just do nothing otherwise).  \n",
    "Here we use `map` to execute `len` over each element of a list (which here is: for each data row), then check if all values correspond to the length of feature names. The function `all` returns whether all of its arguments have truth value. We can also verify the number of labels against the number of data points."
   ]
  },
  {
   "cell_type": "code",
   "execution_count": 264,
   "metadata": {},
   "outputs": [],
   "source": [
    "# we were told to rename the variable as $pets$ and not as $data$. So changed it here \n",
    "assert all(l == len(feature_names) for l in map(len, pets))\n",
    "assert len(pets) == len(labels)"
   ]
  },
  {
   "cell_type": "markdown",
   "metadata": {},
   "source": [
    "# 2. Decision trees"
   ]
  },
  {
   "cell_type": "markdown",
   "metadata": {},
   "source": [
    "You are going to write a decision tree by hand, that classifies cats from dogs on your dataset, by using a simple chain of `if/else` statements. Do not overlook this task: it is an industry standard to integrate human expert knowledge in an automated ML system.  \n",
    "\n",
    "Include at least two questions, meaning the tree depth (max number of decision nodes between start and leaf) should be at least 2. The leaves should contain decision labels, i.e. either $cat$ or $dog$, though you can have multiple instances of either.  \n",
    "I hope you find it obvious that the labels should not be passed to the function.\n",
    "\n",
    "Do you know the [splat operator](https://codeyarns.github.io/tech/2012-04-25-unpack-operator-in-python.html)? You may find it useful to pass data points to your function. Here is a short demonstration [video](https://www.youtube.com/watch?v=9LrtOJTnwJE).\n",
    "\n",
    "With `map`, `zip` and the splat you should now be able to understand the `transpose()` function from last week:\n",
    "\n",
    "```python\n",
    "transpose = lambda lst: list(map(list, zip(*lst)))\n",
    "```\n",
    "\n",
    "A decent Python skill level is nowadays a mandatory requirement for good Data Analysis or Machine Learning job positions."
   ]
  },
  {
   "cell_type": "markdown",
   "metadata": {},
   "source": [
    "#### 2.1 **[2pt]** Implement a Decision Tree as a function that takes the features of a data point from the `data` defined above and returns a predicted label using an if/else chain. Run it over your `data` to obtain a list of predictions."
   ]
  },
  {
   "cell_type": "code",
   "execution_count": 265,
   "metadata": {},
   "outputs": [
    {
     "data": {
      "text/plain": [
       "['Dog', 'Cat', 'Dog', 'Cat', 'Cat']"
      ]
     },
     "execution_count": 265,
     "metadata": {},
     "output_type": "execute_result"
    }
   ],
   "source": [
    "from enum import Enum\n",
    "from typing import List\n",
    "\n",
    "class AnimalType(Enum):\n",
    "    DOG = 'Dog'\n",
    "    CAT ='Cat'\n",
    "\n",
    "class AnimalBarks(Enum):\n",
    "    DOG = True\n",
    "    CAT = False\n",
    "\n",
    "class Animal:\n",
    "    \n",
    "    def __init__(self, animal: List[str]):\n",
    "        self.height = animal[0]\n",
    "        self.barks = animal[1]\n",
    "        self.retractableClaws = animal[2]\n",
    "        self.weigth = animal[3]\n",
    "\n",
    "        \n",
    "class Tree:\n",
    "    \n",
    "    def identify(self, animal: Animal) -> str:\n",
    "        if animal.retractableClaws is True:            \n",
    "            if animal.barks == AnimalBarks.CAT.value:\n",
    "                return AnimalType.CAT.value\n",
    "            else:\n",
    "                return AnimalType.DOG.value\n",
    "        else:\n",
    "            if animal.weigth >=5:\n",
    "                if animal.barks == AnimalBarks.DOG.value:\n",
    "                    return AnimalType.DOG.value\n",
    "                else:\n",
    "                    return AnimalType.CAT.value\n",
    "            else:\n",
    "                if animal.height >40:\n",
    "                    if animal.barks == AnimalBarks.DOG.value:\n",
    "                        return AnimalType.DOG.value\n",
    "                    else:\n",
    "                        return AnimalType.CAT.value\n",
    "                else:\n",
    "                    return AnimalType.CAT.value\n",
    "\n",
    "def temp():\n",
    "    labels = ['Dog', 'Cat', 'Dog', 'Cat', 'Cat']\n",
    "    feature_names = ['Height', 'Barks', 'Retractable Claws', 'Weight']\n",
    "    pets = [\n",
    "            [90, True, False, 30],\n",
    "            [95, False, True, 35],\n",
    "            [45, True, False, 18],\n",
    "            [70, False, True, 22],\n",
    "            [22, False, True, 7]\n",
    "       ]\n",
    "    predictions = []\n",
    "    tree = Tree()\n",
    "    for pet in pets:\n",
    "        animal = Animal(pet)\n",
    "        predictions.append(tree.identify(animal))\n",
    "    return predictions\n",
    "                \n",
    "predictions = temp()\n",
    "predictions"
   ]
  },
  {
   "cell_type": "markdown",
   "metadata": {},
   "source": [
    "To quickly check if it got them all right you can use `zip`, which builds lists taking one element in turn from each of its input lists."
   ]
  },
  {
   "cell_type": "code",
   "execution_count": 266,
   "metadata": {},
   "outputs": [
    {
     "name": "stdout",
     "output_type": "stream",
     "text": [
      "('Dog', 'Dog')\n",
      "('Cat', 'Cat')\n",
      "('Dog', 'Dog')\n",
      "('Cat', 'Cat')\n",
      "('Cat', 'Cat')\n"
     ]
    }
   ],
   "source": [
    "for pair in zip(predictions, labels): print(pair)"
   ]
  },
  {
   "cell_type": "markdown",
   "metadata": {},
   "source": [
    "Now we need to properly assess the performance of our classification. This is commonly done using the [**Confusion Matrix**](https://en.wikipedia.org/wiki/Confusion_matrix): two rows and two columns, indicating the count (over the dataset) of\n",
    "\n",
    "$$\n",
    "\\begin{pmatrix}\n",
    "% \\hrule\n",
    "\\text{true positives} & \\text{false negatives}\\\\\n",
    "% \\hrule\n",
    "\\text{false positives} & \\text{true negatives}\n",
    "% \\hrule\n",
    "\\end{pmatrix}\n",
    "$$\n",
    "\n",
    "(edit this cell and notice above how you can use multi-line `latex` by wrapping your code in `$$` pairs)   \n",
    "(also it does not matter whether you pick $cat$ or $dog$ as the \"positive\" class, but be careful and consistent)\n",
    "\n",
    "The confusion matrix if the foundation to most loss functions for classification, some of which can be [extremely sophisticated](https://en.wikipedia.org/wiki/Matthews_correlation_coefficient).\n",
    "\n",
    "Perfect classification means no false positives (positive answers for data points that should classify negative) and no false negatives (negative answers for data points that should classify positive) for all data points in your dataset.\n",
    "\n",
    "Hint:\n",
    "```python\n",
    "pos = 'cat'; neg = 'dog'\n",
    "tp = 0; tn = 0; fp = 0; fn = 0\n",
    "for pred, lab in zip(predictions, labels):\n",
    "    # your code here\n",
    "```"
   ]
  },
  {
   "cell_type": "markdown",
   "metadata": {},
   "source": [
    "#### 2.2 **[2pt]** Compute and display the Confusion Matrix. If your tree did not achieve perfect classification, write a new version that does."
   ]
  },
  {
   "cell_type": "markdown",
   "metadata": {},
   "source": [
    "Print the result using string interpolation. There are three ways to interpolate strings in Python: using `format()`, using `%` and using f-strings. You can read about [why you should switch to f-strings](https://realpython.com/python-f-strings/), but for now just try using something like this:\n",
    "```python\n",
    "print(f\"tp: {tp}, fn: {fn}\\nfp: {fp}, tn: {tn}\")\n",
    "```"
   ]
  },
  {
   "cell_type": "code",
   "execution_count": 267,
   "metadata": {},
   "outputs": [
    {
     "name": "stdout",
     "output_type": "stream",
     "text": [
      "tp: 2, fn: 0\n",
      "fp: 0, tn: 3\n"
     ]
    }
   ],
   "source": [
    "from typing import List\n",
    "\n",
    "\n",
    "def confusion_matrix(predictions: List[str], labels: List[str]):\n",
    "    tp = 0; tn = 0; fp = 0; fn = 0\n",
    "    # positives --> Dog\n",
    "    # negatives --> Cat\n",
    "    for pred, label in zip(predictions, labels):\n",
    "        if pred == 'Dog' and label == 'Cat':\n",
    "            fp +=1\n",
    "        if pred == 'Dog' and label == 'Dog':\n",
    "            tp +=1\n",
    "        if pred == 'Cat' and label == 'Dog':\n",
    "            fn +=1\n",
    "        if pred == 'Cat' and label == 'Cat':\n",
    "            tn +=1\n",
    "    print(f\"tp: {tp}, fn: {fn}\\nfp: {fp}, tn: {tn}\")       \n",
    "predictions = temp()\n",
    "labels = ['Dog', 'Cat', 'Dog', 'Cat', 'Cat']\n",
    "confusion_matrix(predictions, labels)"
   ]
  },
  {
   "cell_type": "markdown",
   "metadata": {},
   "source": [
    "[think: did you just write a decision tree? can you name the features?]"
   ]
  },
  {
   "cell_type": "markdown",
   "metadata": {},
   "source": [
    "Doing these things by hand can be tedious, but provides a different type of confidence to then go and study the documentation of the library you would rather use in real applications.  \n",
    "Here is the [scikit-learn](https://scikit-learn.org/stable/modules/tree.html) implementation of a decision tree, and here is [the main class](https://scikit-learn.org/stable/modules/generated/sklearn.tree.DecisionTreeClassifier.html). Let's load the implementation with the following:"
   ]
  },
  {
   "cell_type": "code",
   "execution_count": 268,
   "metadata": {},
   "outputs": [
    {
     "data": {
      "text/plain": [
       "['sepal length (cm)',\n",
       " 'sepal width (cm)',\n",
       " 'petal length (cm)',\n",
       " 'petal width (cm)']"
      ]
     },
     "execution_count": 268,
     "metadata": {},
     "output_type": "execute_result"
    }
   ],
   "source": [
    "from sklearn.tree import DecisionTreeClassifier, export_text\n",
    "from sklearn.datasets import load_iris\n",
    "iris = load_iris()\n",
    "iris.feature_names\n",
    "#iris.data"
   ]
  },
  {
   "cell_type": "markdown",
   "metadata": {},
   "source": [
    "#### 2.3 **[1pt]** Train a scikit-learn DecisionTreeClassifier on your dataset."
   ]
  },
  {
   "cell_type": "code",
   "execution_count": 269,
   "metadata": {},
   "outputs": [
    {
     "data": {
      "text/plain": [
       "[Text(223.2, 244.62, 'Barks <= 0.5\\ngini = 0.48\\nsamples = 5\\nvalue = [3, 2]\\nclass = Cat'),\n",
       " Text(111.6, 81.54000000000002, 'gini = 0.0\\nsamples = 3\\nvalue = [3, 0]\\nclass = Cat'),\n",
       " Text(334.79999999999995, 81.54000000000002, 'gini = 0.0\\nsamples = 2\\nvalue = [0, 2]\\nclass = Dog')]"
      ]
     },
     "execution_count": 269,
     "metadata": {},
     "output_type": "execute_result"
    },
    {
     "data": {
      "image/png": "[encoded data removed]",
      "text/plain": [
       "<Figure size 576x432 with 1 Axes>"
      ]
     },
     "metadata": {},
     "output_type": "display_data"
    }
   ],
   "source": [
    "from sklearn import tree\n",
    "clf = DecisionTreeClassifier()\n",
    "clf = clf.fit(pets, labels)\n",
    "features_i = ['Height', 'Barks', 'Retractable Claws', 'Weight']\n",
    "features_mapping = res = {i : features_i[i] [i] for i in range(len(features_i))}\n",
    "temp = new_pets.transform(pets).toarray()\n",
    "\n",
    "tree.plot_tree(clf,\n",
    "               feature_names = features_i, \n",
    "               class_names=['Cat', 'Dog'],\n",
    "               label='all',\n",
    "               filled=True)"
   ]
  },
  {
   "cell_type": "code",
   "execution_count": null,
   "metadata": {},
   "outputs": [],
   "source": []
  },
  {
   "cell_type": "markdown",
   "metadata": {},
   "source": [
    "#### 2.4 **[1pt]** Compare the two trees (handmade and scikit-learn) in number of leaves, tree depth, selected features, and thresholds (in English)."
   ]
  },
  {
   "cell_type": "markdown",
   "metadata": {},
   "source": [
    "$Comparing \\\\ trees$\n",
    "\n",
    "|  Features  |      My tree      |  Scikit's tree |\n",
    "|----------|:-------------:|------:|\n",
    "| Depth    |  3   | 1 |\n",
    "| Number of leaves|    7   |   2 |\n",
    "| Selected Features | Retractable Claws, Barks, Weight, Height |   Barks |\n",
    "| Thresholds | Retractable claws are true, weight greater than equal to 5, height is greater than =40| barks or retractable claws. keeps changing randmly but other features stay the same|"
   ]
  },
  {
   "cell_type": "markdown",
   "metadata": {},
   "source": [
    "# 3. Perceptron"
   ]
  },
  {
   "cell_type": "markdown",
   "metadata": {},
   "source": [
    "This is our first proper learning algorithm, and also the first with an iterative implementation. Its implementation is simple: you should use this opportunity to become confident in its features, as we will find them in much more complex algorithms over the next weeks. Any extra work in this section will make the following assignment much, much easier."
   ]
  },
  {
   "cell_type": "markdown",
   "metadata": {},
   "source": [
    "#### 3.1 **[1pt]** Write the equation of an hyperplane in $\\mathbb{R}^k$, specifying the numeric set and dimensionality of each parameter."
   ]
  },
  {
   "cell_type": "markdown",
   "metadata": {},
   "source": [
    "$w^k · x + b = y$\n",
    "Where $w$ is a vector normal to the hyperplane and $b$ is an offset. Numeric set is $w^k$ and dimensionality will be $k$"
   ]
  },
  {
   "cell_type": "markdown",
   "metadata": {},
   "source": [
    "#### 3.2 **[1pt]** Write the definition of *Linearly Separable Dataset* in plain English (no math)."
   ]
  },
  {
   "cell_type": "markdown",
   "metadata": {},
   "source": [
    "For a given dataset, for eg in a two dimensions, if we draw a line, all the points above the line are one group and those below, will belong to another. For higher dimension, lets say 3 Dimension, points on one side of the plane are one group and on the other side are another group. We assume that the dataset can be seperable using a hyperplane."
   ]
  },
  {
   "cell_type": "markdown",
   "metadata": {},
   "source": [
    "For the next question, let's make sure the concept of Margin and its use is clear. Here is an example of point $(x, y)$ and hyperplane parametrization (w, b).\n",
    "\n",
    "$$\n",
    "\\text{point: }\\;\\; ((1, 3, -5, -2), +1)\\\\\n",
    "\\text{params: }\\;\\; ((2, 7, -3, 5), -2)\\\\\n",
    "$$"
   ]
  },
  {
   "cell_type": "markdown",
   "metadata": {},
   "source": [
    "#### 3.3 **[1pt]**  Compute by hand (LaTeX not Python!) the *margin* for the point and hyperplane above: is the point correctly classified by the hyperplane? Why?"
   ]
  },
  {
   "cell_type": "markdown",
   "metadata": {},
   "source": [
    "$Given :$\n",
    "\n",
    "point: ((1,3,−5,−2),+1) \n",
    "\n",
    "params: ((2,7,−3,5),−2) \n",
    "\n",
    "$To Find:$\n",
    "Margin = ?\n",
    "\n",
    "$Formulae: $\n",
    "\n",
    "$ margin = y_{i} . f(x_{i})$\n",
    "\n",
    "$if margin > 0, correct,else \\\\ incorrect $\n",
    "\n",
    "$y = w.x + b \\\\ $\n",
    "$$ \n",
    "y = \\begin{pmatrix} 2 \\\\ 7 \\\\ -3 \\\\5 \\end{pmatrix}  x  - 2 \\\\\n",
    "= 2x_{1} + 7x_{2} - 3x_3 + 5x_4 -2 \n",
    "$$\n",
    "\n",
    "Subsituting the values of (1,3,−5,−2) to $(x_{1} , x_{2} , x_{3} , x_{4})$\n",
    "\n",
    " $ = 2.(1) + 7.(3) + -3.(-5) + 5.(-2) -2 \\\\ $\n",
    " \n",
    " \n",
    "  $ \\\\ = 26$\n",
    "\n",
    "$ margin = y_{i} . f(x_{i})$\n",
    "$ = +1. (26) $\n",
    "= 26 \n",
    "This is greater than 0 and hence classified correctly\n"
   ]
  },
  {
   "cell_type": "markdown",
   "metadata": {},
   "source": [
    "For the next question we use `numpy`.  \n",
    "We use the definition of Affine Function for the parametrization: here `point` has been conveniently augmented with a trailing $1$ representing the constant input for bias.  \n",
    "Careful from now on you will need to take care of that yourself, starting from one of the next questions. Here are two examples (marked `1` and `2`) of how it can be done.\n",
    "\n",
    "```python\n",
    "x = [1, 3, -5, -2]\n",
    "y = 1\n",
    "w = [2, 7, -3, 5]\n",
    "b = -2\n",
    "point = [np.array([*x, 1]), y] # 1\n",
    "params = np.append(np.array(w), b) # 2\n",
    "```\n",
    "\n",
    "Use `np.dot()` to compute the inner product."
   ]
  },
  {
   "cell_type": "markdown",
   "metadata": {},
   "source": [
    "#### 3.4 **[1pt]**  Write a function that takes in input an hyperplane parametrization and a point, computes the margin, and returns a boolean indicating whether the classification is correct or not. Run it on the point and parametrization provided below (\"The Inputs\"), and print whether the classification is correct or not."
   ]
  },
  {
   "cell_type": "code",
   "execution_count": 6,
   "metadata": {},
   "outputs": [
    {
     "name": "stdout",
     "output_type": "stream",
     "text": [
      "Correct\n"
     ]
    }
   ],
   "source": [
    "# The Inputs -- do not change\n",
    "import numpy as np\n",
    "point = [np.array([1, 3, -5, -2, 1]), 1]\n",
    "params = np.array([2, 7, -3, 5, -2])\n",
    "def my_margin(point,params):\n",
    "    point_x = point[0]\n",
    "    res = np.dot(point_x, params)\n",
    "    margin = res * point[1]\n",
    "    if margin >0 :\n",
    "        print(\"Correct\")\n",
    "    else:\n",
    "        print(\"incorrect\")\n",
    "    return margin\n",
    "marg = my_margin(point, params)\n"
   ]
  },
  {
   "cell_type": "code",
   "execution_count": 142,
   "metadata": {},
   "outputs": [
    {
     "name": "stdout",
     "output_type": "stream",
     "text": [
      "[3, 10, -8, 3, -1]\n",
      "[ 2  7 -3  5 -2]\n"
     ]
    }
   ],
   "source": []
  },
  {
   "cell_type": "markdown",
   "metadata": {},
   "source": [
    "#### 3.5 **[1pt]** Implement the Perceptron update rule for a single point as a method that takes a hyperplane parametrization and a point (which we assume we know is misclassified) and returns the updated parametrization. Run it on The Input above and print the updated parametrization."
   ]
  },
  {
   "cell_type": "code",
   "execution_count": 7,
   "metadata": {},
   "outputs": [
    {
     "data": {
      "text/plain": [
       "[3, 10, -8, 3, -1]"
      ]
     },
     "execution_count": 7,
     "metadata": {},
     "output_type": "execute_result"
    }
   ],
   "source": [
    "def update_perceptron_params(point, params):\n",
    "    new_params = []\n",
    "    point_x = point[0]\n",
    "    for i in range(0, len(point_x)):\n",
    "        new_params.append(params[i] + point_x[i]*point[1])\n",
    "    return new_params\n",
    "update_perceptron_params(point, params)"
   ]
  },
  {
   "cell_type": "markdown",
   "metadata": {},
   "source": [
    "#### 3.6 **[1pt]** Print whether the updated parametrization from the last question correctly classifies the point from The Input (use the margin-based function you wrote to answer two questions above)."
   ]
  },
  {
   "cell_type": "code",
   "execution_count": 8,
   "metadata": {},
   "outputs": [
    {
     "name": "stdout",
     "output_type": "stream",
     "text": [
      "Correct\n"
     ]
    },
    {
     "data": {
      "text/plain": [
       "66"
      ]
     },
     "execution_count": 8,
     "metadata": {},
     "output_type": "execute_result"
    }
   ],
   "source": [
    "new_params = update_perceptron_params(point, params)\n",
    "my_margin(point, new_params)"
   ]
  },
  {
   "cell_type": "markdown",
   "metadata": {},
   "source": [
    "Alright, do you feel confident of your implementation so far? Let's scale it up: implement the Perceptron Algorithm and run it on a demo dataset from Scikit-learn.\n",
    "\n",
    "First we load the classic [Iris dataset](https://scikit-learn.org/stable/auto_examples/datasets/plot_iris_dataset.html#sphx-glr-auto-examples-datasets-plot-iris-dataset-py), its history is very interesting so make sure to [have a look at it](https://en.wikipedia.org/wiki/Iris_flower_data_set).\n",
    "Since we are studying linear binary classification, let's collapse two classes together and focus on two if its four features."
   ]
  },
  {
   "cell_type": "code",
   "execution_count": 9,
   "metadata": {},
   "outputs": [],
   "source": [
    "from sklearn.datasets import load_iris\n",
    "iris_x, iris_y = load_iris(return_X_y=True) # print these to understand\n",
    "x1 = np.array([r[0] for r in iris_x]) # first feature\n",
    "x2 = np.array([r[2] for r in iris_x]) # third feature\n",
    "x = np.array([x1, x2]).transpose() # numpy transpose() for free\n",
    "# Reduce to two binary classes {+1, -1}\n",
    "labels = np.array([-1 if y==0 else +1 for y in iris_y])"
   ]
  },
  {
   "cell_type": "markdown",
   "metadata": {},
   "source": [
    "Your Perceptron inputs should be $x$ input vector and $labels$ target labels / classes.  \n",
    "We learned last week what we need to plot such a dataset, right?"
   ]
  },
  {
   "cell_type": "code",
   "execution_count": 10,
   "metadata": {},
   "outputs": [],
   "source": [
    "%matplotlib inline\n",
    "import matplotlib.pyplot as plt\n",
    "import seaborn as sns\n",
    "sns.set(rc={'figure.figsize':(8,6)}, style=\"whitegrid\")"
   ]
  },
  {
   "cell_type": "code",
   "execution_count": 11,
   "metadata": {},
   "outputs": [
    {
     "data": {
      "image/png": "[encoded data removed]",
      "text/plain": [
       "<Figure size 576x432 with 1 Axes>"
      ]
     },
     "metadata": {},
     "output_type": "display_data"
    }
   ],
   "source": [
    "def todays_plot(): # learn to write your own\n",
    "    sns.scatterplot(x=x1, y=x2,\n",
    "      hue=labels, # let's use different colors for the two classes\n",
    "      palette=sns.color_palette(['darkred', 'darkblue']),\n",
    "      s=100)\n",
    "\n",
    "todays_plot()"
   ]
  },
  {
   "cell_type": "markdown",
   "metadata": {},
   "source": [
    "The problem is clearly linearly separable. Let's see how the Perceptron performs"
   ]
  },
  {
   "cell_type": "markdown",
   "metadata": {},
   "source": [
    "#### 3.7 **[4pt]** Implement the Perceptron Algorithm in a single cell (do not call any function defined above) as a function that takes the input vector and target labels and returns a trained hyperplane parametrization. Run it on the (partial) Iris data loaded above."
   ]
  },
  {
   "cell_type": "code",
   "execution_count": 12,
   "metadata": {},
   "outputs": [
    {
     "data": {
      "text/plain": [
       "[(-3.3999999999999977, 9.100000000000001), -2]"
      ]
     },
     "execution_count": 12,
     "metadata": {},
     "output_type": "execute_result"
    }
   ],
   "source": [
    "from sklearn.datasets import load_iris\n",
    "from typing import List\n",
    "class Petal:\n",
    "    def __init__(self, x_1, x_2, y):\n",
    "        self.x1 = x_1\n",
    "        self.x2 = x_2\n",
    "        self.y = y\n",
    "    \n",
    "    def calculate_margin(self, params):\n",
    "        res = np.dot([self.x1, self.x2], [params[0], params[1]])\n",
    "        res += params[2]\n",
    "        return res * self.y\n",
    "    \n",
    "    def get_updated_params(self, params):\n",
    "        w1 = params[0] + self.x1*self.y\n",
    "        w2 = params[1] + self.x2 * self.y\n",
    "        b = params[2] + 1 * self.y\n",
    "        return [w1, w2, b]\n",
    "\n",
    "def pre_process(x, labels):\n",
    "    petals = []\n",
    "    for i in range(0, len(x)):\n",
    "        petals.append(Petal(x[i][0], x[i][1], labels[i]))\n",
    "    return petals\n",
    "\n",
    "def my_pre_process():\n",
    "    iris_x, iris_y = load_iris(return_X_y=True) # print these to understand\n",
    "    x1 = np.array([r[0] for r in iris_x]) # first feature\n",
    "    x2 = np.array([r[2] for r in iris_x]) # third feature\n",
    "    x = np.array([x1, x2]).transpose() # numpy transpose() for free\n",
    "# Reduce to two binary classes {+1, -1}\n",
    "    labels = np.array([-1 if y==0 else +1 for y in iris_y])\n",
    "    petals = []\n",
    "    for i in range(0, len(x1)):        \n",
    "        petals.append(Petal(x1[i],  x2[i],  labels[i]))\n",
    "    return petals\n",
    "\n",
    "def get_best_params(petals: List[Petal]):\n",
    "    count = 1000\n",
    "    params = [0,0,0] # two values, x1 and x2 and one for b\n",
    "    while count >= 0:\n",
    "        for petal in petals:\n",
    "            margin = petal.calculate_margin(params)\n",
    "            if margin <=0:\n",
    "                params = petal.get_updated_params(params)\n",
    "        count -=1\n",
    "    return params\n",
    "def perceptron(X,labels):\n",
    "    #petals = my_pre_process()\n",
    "    petals = pre_process(X, labels)\n",
    "    best_params = get_best_params(petals)\n",
    "    return [(best_params[0], best_params[1]), best_params[2]]\n",
    "perceptron(x, labels)"
   ]
  },
  {
   "cell_type": "code",
   "execution_count": null,
   "metadata": {},
   "outputs": [],
   "source": []
  },
  {
   "cell_type": "markdown",
   "metadata": {},
   "source": [
    "Ok we can plot the points and we can plot a $y = mx + q$ model. But how can we plot the $f(x) = \\langle w, x \\rangle + b$ decision boundary? Well we know the two classes are $f(x)>0$ (positive, above) and $f(x)<0$ (negative, below), so our boundary is in $f(x) = 0$. Then we can find the function coefficients in the $w_1, w_2$ space as:\n",
    "\n",
    "$$\n",
    "f(x) = \\langle w, x \\rangle + b = 0\\\\\n",
    "w = \\begin{bmatrix}w_1\\\\w_2\\end{bmatrix}\\\\\n",
    "ax + by + c = 0\\\\\n",
    "y = mx + q\\\\[2ex]\n",
    "a = w_1,\\;\\; b=w_2,\\;\\; c = b\\\\\n",
    "w_1 x + w_2 y + b = 0\\\\\n",
    "-w_2 y = w_1 x + b\\\\\n",
    "y = \\frac{w_1}{-w_2} x + \\frac{b}{-w_2}\\\\[2ex]\n",
    "m = \\frac{w_1}{-w_2},\\;\\; q = \\frac{b}{-w_2}\\\\\n",
    "y = \\frac{w_1}{-w_2} x + \\frac{b}{-w_2}\n",
    "$$\n",
    "\n",
    "For now you can use the implementation below, but make sure you understand these simple (if tedious) steps above because next time you will need to implement it yourself."
   ]
  },
  {
   "cell_type": "code",
   "execution_count": 13,
   "metadata": {},
   "outputs": [],
   "source": [
    "def wb2mq(w, b):\n",
    "    assert len(w) == 2, \"This implementation only works in 2D\"\n",
    "    assert w[0] != 0 and w[1] != 0 and b != 0 # avoid edge cases for now\n",
    "    return [w[0]/-w[1], b/-w[1]] # m and q\n",
    "\n",
    "def params2boundary(w, b):\n",
    "    m, q = wb2mq(w, b)\n",
    "    print(f\"m: {m}, q: {q}\")\n",
    "    return lambda x: m*x + q"
   ]
  },
  {
   "cell_type": "markdown",
   "metadata": {},
   "source": [
    "I hope the code above comes to no surprise after having derived it mathematically. If you read it aloud it should sound obvious in English; if not go back and make sure you understand the mathematical derivation (and the code above) before moving forward or it is only going to be more confusing.  \n",
    "Now we can plot the model on top of our data:"
   ]
  },
  {
   "cell_type": "code",
   "execution_count": 14,
   "metadata": {},
   "outputs": [
    {
     "name": "stdout",
     "output_type": "stream",
     "text": [
      "w: (-3.3999999999999977, 9.100000000000001), b: -2\n",
      "m: 0.3736263736263733, q: 0.21978021978021975\n",
      "[2.1252747252747235, 2.050549450549449, 1.9758241758241741, 1.9384615384615367, 2.0879120879120863, 2.2373626373626356, 1.9384615384615367, 2.0879120879120863, 1.8637362637362622, 2.050549450549449, 2.2373626373626356, 2.0131868131868114, 2.0131868131868114, 1.8263736263736248, 2.386813186813185, 2.3494505494505478, 2.2373626373626356, 2.1252747252747235, 2.3494505494505478, 2.1252747252747235, 2.2373626373626356, 2.1252747252747235, 1.9384615384615367, 2.1252747252747235, 2.0131868131868114, 2.0879120879120863, 2.0879120879120863, 2.162637362637361, 2.162637362637361, 1.9758241758241741, 2.0131868131868114, 2.2373626373626356, 2.162637362637361, 2.274725274725273, 2.050549450549449, 2.0879120879120863, 2.274725274725273, 2.050549450549449, 1.8637362637362622, 2.1252747252747235, 2.0879120879120863, 1.9010989010988995, 1.8637362637362622, 2.0879120879120863, 2.1252747252747235, 2.0131868131868114, 2.1252747252747235, 1.9384615384615367, 2.1999999999999984, 2.0879120879120863, 2.835164835164833, 2.6109890109890093, 2.797802197802196, 2.274725274725273, 2.6483516483516465, 2.3494505494505478, 2.5736263736263716, 2.050549450549449, 2.6857142857142837, 2.162637362637361, 2.0879120879120863, 2.4241758241758227, 2.46153846153846, 2.4989010989010967, 2.31208791208791, 2.723076923076921, 2.31208791208791, 2.386813186813185, 2.5362637362637344, 2.31208791208791, 2.4241758241758227, 2.4989010989010967, 2.5736263736263716, 2.4989010989010967, 2.6109890109890093, 2.6857142857142837, 2.760439560439558, 2.723076923076921, 2.46153846153846, 2.3494505494505478, 2.274725274725273, 2.274725274725273, 2.386813186813185, 2.46153846153846, 2.2373626373626356, 2.46153846153846, 2.723076923076921, 2.5736263736263716, 2.31208791208791, 2.274725274725273, 2.274725274725273, 2.4989010989010967, 2.386813186813185, 2.0879120879120863, 2.31208791208791, 2.3494505494505478, 2.3494505494505478, 2.5362637362637344, 2.1252747252747235, 2.3494505494505478, 2.5736263736263716, 2.386813186813185, 2.8725274725274703, 2.5736263736263716, 2.6483516483516465, 3.059340659340657, 2.050549450549449, 2.9472527472527448, 2.723076923076921, 2.9098901098901075, 2.6483516483516465, 2.6109890109890093, 2.760439560439558, 2.3494505494505478, 2.386813186813185, 2.6109890109890093, 2.6483516483516465, 3.096703296703294, 3.096703296703294, 2.46153846153846, 2.797802197802196, 2.31208791208791, 3.096703296703294, 2.5736263736263716, 2.723076923076921, 2.9098901098901075, 2.5362637362637344, 2.4989010989010967, 2.6109890109890093, 2.9098901098901075, 2.9846153846153824, 3.171428571428569, 2.6109890109890093, 2.5736263736263716, 2.4989010989010967, 3.096703296703294, 2.5736263736263716, 2.6109890109890093, 2.46153846153846, 2.797802197802196, 2.723076923076921, 2.797802197802196, 2.386813186813185, 2.760439560439558, 2.723076923076921, 2.723076923076921, 2.5736263736263716, 2.6483516483516465, 2.5362637362637344, 2.4241758241758227]\n"
     ]
    },
    {
     "data": {
      "text/plain": [
       "<matplotlib.axes._subplots.AxesSubplot at 0x7f974396da30>"
      ]
     },
     "execution_count": 14,
     "metadata": {},
     "output_type": "execute_result"
    },
    {
     "data": {
      "image/png": "[encoded data removed]",
      "text/plain": [
       "<Figure size 576x432 with 1 Axes>"
      ]
     },
     "metadata": {},
     "output_type": "display_data"
    }
   ],
   "source": [
    "todays_plot()\n",
    "perc_w, perc_b = perceptron(x, labels)\n",
    "# we can use the splat to separate the bias (last element)\n",
    "print(f\"w: {perc_w}, b: {perc_b}\")\n",
    "perc_boundary = params2boundary(perc_w, perc_b)\n",
    "print([perc_boundary(inp) for inp in x1])\n",
    "sns.lineplot(x=x1, y=[perc_boundary(inp) for inp in x1], color='black')\n"
   ]
  },
  {
   "cell_type": "markdown",
   "metadata": {},
   "source": [
    "Alright! Let's do the same with the scikit-learn Perceptron and we are done."
   ]
  },
  {
   "cell_type": "code",
   "execution_count": 299,
   "metadata": {},
   "outputs": [],
   "source": [
    "from sklearn.linear_model import Perceptron"
   ]
  },
  {
   "cell_type": "markdown",
   "metadata": {},
   "source": [
    "#### 3.8 **[1pt]** Train a scikit-learn Perceptron on the same data as the last question."
   ]
  },
  {
   "cell_type": "markdown",
   "metadata": {},
   "source": [
    "Note: it should take *no more than two lines*. You should still have the documentation open, the class you are looking for is `Perceptron`, and the method you need is typically called `fit` for most sklearn algorithms. Find out how it works and how to pass features and labels as arguments."
   ]
  },
  {
   "cell_type": "code",
   "execution_count": 303,
   "metadata": {},
   "outputs": [],
   "source": [
    "from sklearn.linear_model import Perceptron\n",
    "perceptron = Perceptron()\n",
    "trained = perceptron.fit(x, labels)"
   ]
  },
  {
   "cell_type": "markdown",
   "metadata": {},
   "source": [
    "To visualize the model boundary we need extract the vectors $w$ and $b$ from a trained scikit-learn Perceptron: they are stored as `coef_` (coefficients stands for weights) and `intercept_` (which is another term for `q` or bias) _(as mentioned: be flexible with the nomenclature as each library adopts its own)_.  \n",
    "Note though that they are both `list`s, because the algorithm is written to scale to _multiclass classification_, where you have multiple classes and therefore need multiple hyperplanes to partition the space in multiple regions. Of course with two classes you only need one hyperplane so be sure to access only the first element.  \n",
    "I will be providing the code below yet again, but make sure you study and understand it so you will be able to write it yourself in the next assignments."
   ]
  },
  {
   "cell_type": "code",
   "execution_count": 304,
   "metadata": {},
   "outputs": [
    {
     "name": "stdout",
     "output_type": "stream",
     "text": [
      "m: 0.423076923076923, q: 0.19230769230769226\n"
     ]
    },
    {
     "data": {
      "text/plain": [
       "<matplotlib.axes._subplots.AxesSubplot at 0x7f89eb725190>"
      ]
     },
     "execution_count": 304,
     "metadata": {},
     "output_type": "execute_result"
    },
    {
     "data": {
      "image/png": "[encoded data removed]",
      "text/plain": [
       "<Figure size 576x432 with 1 Axes>"
      ]
     },
     "metadata": {},
     "output_type": "display_data"
    }
   ],
   "source": [
    "w, b = [trained.coef_[0], trained.intercept_[0]]\n",
    "d_boundary = params2boundary(w, b)\n",
    "todays_plot()\n",
    "boundary_preds = [d_boundary(inp) for inp in x1]\n",
    "sns.lineplot(x=x1, y=boundary_preds, color='black')"
   ]
  },
  {
   "cell_type": "markdown",
   "metadata": {},
   "source": [
    "#### 3.9 **[1pt]** Compare the resulting boundary against the one trained with your hand-made algorithm, and hypothesize why _in your opinion_ they are similar/different (in English)."
   ]
  },
  {
   "cell_type": "markdown",
   "metadata": {},
   "source": [
    "This exercise (as many more in the future) trains your ability to express your opinion and  fundamental understanding of the topic using technical language. It is scored based on your expressiveness, not on the correctness (although you should be able to formulate a correct opinion here) or on the English per se. Show your reasoning!"
   ]
  },
  {
   "cell_type": "markdown",
   "metadata": {},
   "source": [
    "##### Similarities"
   ]
  },
  {
   "cell_type": "raw",
   "metadata": {},
   "source": [
    "They both have same slope. They both have correct classifications for the given data. This could be because we have positive values for both the features. The similarity can be because the weights calculated using the same process. "
   ]
  },
  {
   "cell_type": "markdown",
   "metadata": {},
   "source": [
    "#### Differences"
   ]
  },
  {
   "cell_type": "markdown",
   "metadata": {},
   "source": [
    "The offset is slightly different and weights are slightly different, that could be because there is no learning rate involved and that we offset by either +1 or -1 and that might be a bit too much be as accurate as scikit learn"
   ]
  },
  {
   "cell_type": "code",
   "execution_count": null,
   "metadata": {},
   "outputs": [],
   "source": []
  }
 ],
 "metadata": {
  "kernelspec": {
   "display_name": "Python 3 (ipykernel)",
   "language": "python",
   "name": "python3"
  },
  "language_info": {
   "codemirror_mode": {
    "name": "ipython",
    "version": 3
   },
   "file_extension": ".py",
   "mimetype": "text/x-python",
   "name": "python",
   "nbconvert_exporter": "python",
   "pygments_lexer": "ipython3",
   "version": "3.8.3"
  }
 },
 "nbformat": 4,
 "nbformat_minor": 4
}
