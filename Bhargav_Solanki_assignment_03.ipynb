{
 "cells": [
  {
   "cell_type": "markdown",
   "metadata": {},
   "source": [
    "Please fill in your name and that of your teammate.\n",
    "\n",
    "You:Bhargav Solanki\n",
    "\n",
    "Teammate: Carmen Sangro Prieto"
   ]
  },
  {
   "cell_type": "code",
   "execution_count": null,
   "metadata": {},
   "outputs": [],
   "source": []
  },
  {
   "cell_type": "markdown",
   "metadata": {},
   "source": [
    "# Introduction"
   ]
  },
  {
   "cell_type": "markdown",
   "metadata": {},
   "source": [
    "Welcome to the third lab. There is much to go through today so we will keep extra concepts to a minimum. There is no new library introduced at this lecture as we will keep using `numpy` for the heavy lifting, `scikit-learn` for the algorithms, and `seaborn` / `matplotlib` for plotting. Careful about reusing variable names in the notebook and computing cells out of order: frequent calls to `Kernel -> Restart and Run All` can save you from headaches.\n",
    "\n",
    "The assignment starts getting math-heavy. Here's a new tool to aid you with the debugging. Explicitly `import IPython` at the beginning of a notebook (or Python file) to have access to the computational Python kernel. You can then call `IPython.embed()` at an arbitrary place in your code (say, inside a loop) and it will pause the computation and drop you into an interactive console. You can then evaluate Python code in the context where it was called. Here is an example:\n",
    "\n",
    "```python\n",
    "import numpy as np\n",
    "for i in range(10):\n",
    "    guess = np.random.normal()\n",
    "    function_that_fails_because_of(guess, i)\n",
    "```\n",
    "\n",
    "Let's say your function fails for `i==9`, how would you find the error? Typically you may want to edit the code and print `guess` and `i` to see what is happening, but it is slow and passive. What if you want to try to pass `i+1` and see if that works? What if you want to try a few other random numbers with the same `i`? Enter `IPython.embed()`:\n",
    "\n",
    "```python\n",
    "import numpy as np\n",
    "import IPython\n",
    "for i in range(10):\n",
    "    guess = np.random.normal()\n",
    "    if i==9: IPython.embed()\n",
    "    function_that_fails_because_of(guess, i)\n",
    "```\n",
    "\n",
    "If you execute this code, the cell output will show an interactive console in your output cell. Here you can send commands to be interpreted by the Python kernel of the notebook. You could then try something like the following lines for example (one at a time):\n",
    "\n",
    "```python\n",
    "i #=> prints value of i\n",
    "guess  #=> prints value of guess\n",
    "function_that_fails_because_of(guess, i) #=> fails and shows you the error\n",
    "function_that_fails_because_of(guess, i+1) #=> change parameters: will it work?\n",
    "function_that_fails_because_of(guess, i-1) #=> what about this one?\n",
    "guess = np.random.normal() #=> overwrites the value of `guess` in the kernel\n",
    "function_that_fails_because_of(guess, i) #=> will this work this time?\n",
    "```\n",
    "\n",
    "As you can see you can test your code in the context of the function (or, here, loop), find the code that works, then you can go ahead and copy+paste in your actual code. If you need to exit the console and resume the computation (with whatever change you executed, as the kernel is the same) just type `exit()`.\n",
    "\n",
    "_Bonus:_ you can ask the kernel to drop you into a _debugger_ session every time you get an error. This can be tricky with Jupyter Notebooks, so use with caution, but can also be a lifesaver if you are willing to learn about [postmortem debugging](https://medium.com/instamojo-matters/become-a-pdb-power-user-e3fc4e2774b2). You do that by adding the following lines on top of your code (need to execute them only once):\n",
    "\n",
    "```python\n",
    "# DEBUG: uncaught exceptions drop you into ipdb for postmortem debugging\n",
    "import sys, IPython; sys.excepthook = IPython.core.ultratb.ColorTB(call_pdb=True)\n",
    "```\n",
    "\n",
    "After this line, if you encounter an error or uncaught exception in your code, rather than terminating you will be dropped in an `ipdb` (fancier version of `pdb`) console where you can interrogate the program about the conditions causing the crash.\n",
    "\n",
    "Good hunting!"
   ]
  },
  {
   "cell_type": "markdown",
   "metadata": {},
   "source": [
    "### How to pass the lab?"
   ]
  },
  {
   "cell_type": "markdown",
   "metadata": {},
   "source": [
    "Below you find the exercise questions. Each question awarding points is numbered and states the number of points like this: **[0pt]**. To answer a question, fill the cell below with your answer (markdown for text, code for implementation). Incorrect or incomplete answers are in principle worth 0 points: to assign partial reward is only up to teacher discretion. Over-complete answers do not award extra points (though they are appreciated and will be kept under consideration). Save your work frequently! (`ctrl+s`)\n",
    "\n",
    "**You need at least 22 points (out of 33 available) to pass** (66%)."
   ]
  },
  {
   "cell_type": "markdown",
   "metadata": {},
   "source": [
    "# 1. Fundamentals"
   ]
  },
  {
   "cell_type": "markdown",
   "metadata": {},
   "source": [
    "Let's make sure some of the core points are clear before addressing the specific algorithms.\n",
    "\n",
    "#### 1.1 **[1pt]** Write the equation of the Gaussian density. Use Latex inside the Markdown cell.\n",
    "\n",
    "I suggest you type it out rather than copy+paste from the Internet: the goal of this question is to _force_ you to read one term at a time, and understand which is clear to you and which is not.\n",
    "For example, the equation you will write here a norm, while our later applications of the formula do not, since we will actually be using the [Gaussian](https://en.wikipedia.org/wiki/Normal_distribution) Probability Density Function [(PDF)](https://en.wikipedia.org/wiki/Probability_density_function) equation instead. Do you understand why? Did you study this before?"
   ]
  },
  {
   "cell_type": "markdown",
   "metadata": {},
   "source": [
    "$f(x)= {\\frac{1}{\\sigma\\sqrt{2\\pi}}}e^{- {\\frac {1}{2}} (\\frac {||x-\\mu||}{\\sigma})^2}$"
   ]
  },
  {
   "cell_type": "markdown",
   "metadata": {},
   "source": [
    "#### 1.2 **[1pt]** Explain why we maximize the log-likelihood rather than the likelihood. In particular, what is the advantage in using the $\\log$ rather than another operation?"
   ]
  },
  {
   "cell_type": "markdown",
   "metadata": {},
   "source": [
    "If there is multiplication involved, its harder to maximize. Instead we use logs, to so we can add. $x.y -> log(xy) --> logx + log(y)$"
   ]
  },
  {
   "cell_type": "markdown",
   "metadata": {},
   "source": [
    "#### 1.3 **[1pt]** Why the equation maximizing the log-likelihood of a Gaussian does not include the parameter $\\sigma$?"
   ]
  },
  {
   "cell_type": "markdown",
   "metadata": {},
   "source": [
    "$\\sigma$ is $w$ independent and is also a constant. Hence we ignore it."
   ]
  },
  {
   "cell_type": "markdown",
   "metadata": {},
   "source": [
    "#### 1.4 **[1pt]** Explain the meaning of i.i.d. (in English), using the simplest words you can."
   ]
  },
  {
   "cell_type": "markdown",
   "metadata": {},
   "source": [
    "I.I.D. stands for independently and identically distributed. In simple words, they are random samples. \n",
    "#### Idendtically: \n",
    "Sample taken from same distribution.\n",
    "#### Independently :\n",
    "There are no global trends."
   ]
  },
  {
   "cell_type": "markdown",
   "metadata": {},
   "source": [
    "#### 1.5 **[2pt]** Write the equation of the Bayes' Rule (use Latex). Then write below how to read it in English."
   ]
  },
  {
   "cell_type": "markdown",
   "metadata": {},
   "source": [
    "$ P(y|x) = \\frac{P(x|y).P(y)}{P(x)} $"
   ]
  },
  {
   "cell_type": "markdown",
   "metadata": {},
   "source": [
    "# 2. Linear Regression"
   ]
  },
  {
   "cell_type": "markdown",
   "metadata": {},
   "source": [
    "#### 2.1 **[2pt]** Explain the meaning of $y_i = \\langle w, x_i \\rangle + \\epsilon_i, \\;\\; \\epsilon \\sim \\mathcal{N}(0, \\sigma^2)$ (in English). Utilize the word 'prototype'."
   ]
  },
  {
   "cell_type": "markdown",
   "metadata": {},
   "source": [
    "$y_i = \\langle w, x_i \\rangle + \\epsilon_i$   Here $\\epsilon_i$ is the error or noise term that his homoskedastic, that is the error term is also from the same distribution, also we ensure that the value is within the range 0 to standard deviation for each observation. That being said, we now assume that $y_i$ will be picked from the same distribution, the prototype, of the total distribution. $\\langle w, x_i \\rangle $ is the Weights and x coordinates  in vector space. "
   ]
  },
  {
   "cell_type": "markdown",
   "metadata": {},
   "source": [
    "Enough theory, let's get our hands in there. Since we are working with a regression task, let us generate some data from an underlying linear function with some noise.  \n",
    "_[think: the process below is (correct but) unnecessary convoluted: would you be able (yet) to simplify it? Always prefer simpler code!]_"
   ]
  },
  {
   "cell_type": "code",
   "execution_count": 2,
   "metadata": {},
   "outputs": [
    {
     "data": {
      "text/plain": [
       "(-10.0, 1.0, -24.7155822902512)"
      ]
     },
     "execution_count": 2,
     "metadata": {},
     "output_type": "execute_result"
    }
   ],
   "source": [
    "import numpy as np\n",
    "trg_fn = lambda x: 2*x - 1 # hi I'm lambda, remember me?\n",
    "some_noise = lambda: np.random.normal(0,2) # Gaussian noise with mu=0, sigma=2\n",
    "# Below we add a 1 to every row as the bias (constant) input\n",
    "# Think about each part and discuss if you do not understand something yet!\n",
    "data = np.array([[x, 1, trg_fn(x) + some_noise()] for x in np.linspace(-10, 10, 50)])\n",
    "#print(data)\n",
    "*x, y = data.transpose() # easier using splat and numpy: do you understand it?\n",
    "x = np.array(x).transpose() # back to *rows* with input features and bias input\n",
    "x[0][0], x[0][1], y[0]"
   ]
  },
  {
   "cell_type": "markdown",
   "metadata": {},
   "source": [
    "#### 2.2 **[1pt]** Write a (Python) function that takes a data point in input and returns the squared error Loss. Test it by using a constant prediction model $y = 1$ and compute the Risk over all the data."
   ]
  },
  {
   "cell_type": "markdown",
   "metadata": {},
   "source": [
    "$E_i = [y_i - (\\langle w, x_i \\rangle + b)]^2$\n",
    "\n",
    "$ \\\\  \n",
    "= [y_i - (\\langle w, x_i \\rangle) - b)^2$\n",
    "\n",
    " Given that y = 1 , we know $w$ is [0, 0, .., 0] hence $\\langle w, x_i \\rangle$ is 0 \n",
    " Hence, \n",
    " \n",
    "$ = [y_i - 1]^2 $\n",
    "\n",
    "Using that information"
   ]
  },
  {
   "cell_type": "code",
   "execution_count": 3,
   "metadata": {},
   "outputs": [
    {
     "data": {
      "text/plain": [
       "7872.45328068631"
      ]
     },
     "execution_count": 3,
     "metadata": {},
     "output_type": "execute_result"
    }
   ],
   "source": [
    "# We know that y = 1 so, we dont use x\n",
    "def calculate_least_sqaure(point, label):\n",
    "    return pow(label - 1, 2)\n",
    "\n",
    "def calculate_risk(points, labels):\n",
    "    total_risk = 0\n",
    "    for i in range(0, len(points)):\n",
    "        total_risk += calculate_least_sqaure(points[i], labels[i])\n",
    "    return total_risk\n",
    "calculate_risk(x, y)"
   ]
  },
  {
   "cell_type": "markdown",
   "metadata": {},
   "source": [
    "[IMPORTANT]: A few tips before we proceed:\n",
    "- Numpy's linear algebra library provides matrix inversion, but you should use instead the pseudo-inverse to cope with singular covariance matrices: `np.linalg.pinv()`\n",
    "- Numpy's array provides inner product with the function `dot()`\n",
    "- Typically `dot()` will find the right direction for one-dimensional arrays, which means that you should never need to transpose them\n",
    "- Using `dot()` with matrices instead *always* requires you to `transpose()` to the right orientation! Write the math and keep track of what you are doing.\n",
    "- Remember that matrix product is not commutative: `A.dot(B)` is NOT equal to `B.dot(A)`. Refresh also how `A.dot(B)` requires the number of columns of `A` to be the same as the number of rows of `B`, and the result will have the same number of rows of `A` and the number of columns of `B`.\n",
    "- Linear regression uses a closed-form solution, **not a loop**, and you will not use the implementation of the loss above in the rest of the assignment (because it is implicit in the algorithm's solution)."
   ]
  },
  {
   "cell_type": "markdown",
   "metadata": {},
   "source": [
    "#### 2.3 **[2pt]** Write a function that takes in input a list of data points and a list of labels, and returns the $w$ vector using the closed-form solution of Linear Regression. Test it on the data above and print the computed $w$."
   ]
  },
  {
   "cell_type": "code",
   "execution_count": 3,
   "metadata": {},
   "outputs": [
    {
     "name": "stdout",
     "output_type": "stream",
     "text": [
      "[ 2.02205481 -0.55068072]\n"
     ]
    }
   ],
   "source": [
    "def calculate_weights(points, labels):\n",
    "    #print(points)\n",
    "    x_transpose = np.transpose(points)\n",
    "    new_labels = [ [val,1] for val in labels]\n",
    "    #print(x_transpose)\n",
    "    mult = np.dot(x_transpose, points)\n",
    "    #print(mult)\n",
    "    #print(\"###\")\n",
    "    inverse = np.linalg.pinv(mult)\n",
    "    #print(inverse)\n",
    "    #print(\"###\")\n",
    "    temp = np.dot(inverse, x_transpose)\n",
    "    #print(temp)\n",
    "    result = np.dot(temp, labels)\n",
    "    #print(result)\n",
    "    return result\n",
    "#print(x)\n",
    "w = calculate_weights(x, y)\n",
    "print(w)"
   ]
  },
  {
   "cell_type": "markdown",
   "metadata": {},
   "source": [
    "#### 2.4 **[2pt]** Predict the labels for all points using your Linear Regression implementation and the `w` vector from the previous question. For each data point, print the triplet of  `(label, prediction, loss)`. Then compute and print the (squared error) Risk over the dataset."
   ]
  },
  {
   "cell_type": "markdown",
   "metadata": {},
   "source": [
    "Remember that you need to build the linear model (careful handling the bias), then you are doing _regression_ not *classification*, which means you are predicting the value $\\hat{y}$ based on your $x$. You should get back $m$ and $q$ close to $2$ and $-1$, and the risk roughly proportional to the square of the expected error multiplied by the number of points (or close below that).  \n",
    "_[think: what is the expected error? Do you understand why? You can generate the points and compute the risk multiple times to verify your hypothesis]_"
   ]
  },
  {
   "cell_type": "code",
   "execution_count": 4,
   "metadata": {},
   "outputs": [
    {
     "name": "stdout",
     "output_type": "stream",
     "text": [
      "label = -20.7838435905172, y_cap = -20.771228809157318, loss =0.000159132708757644\n",
      "label = -18.029448856373314, y_cap = -19.945900315726195, loss =3.672786196055789\n",
      "label = -15.017805132811464, y_cap = -19.120571822295073, loss =16.832694508336292\n",
      "label = -20.61357149629874, y_cap = -18.295243328863947, loss =5.374645491921563\n",
      "label = -21.738014205015332, y_cap = -17.469914835432824, loss =18.216672228630603\n",
      "label = -13.824151792221114, y_cap = -16.644586342001706, loss =7.954851049596047\n",
      "label = -14.116568239291807, y_cap = -15.81925784857058, loss =2.8991519055458994\n",
      "label = -12.010663241810084, y_cap = -14.993929355139457, loss =8.899876702939343\n",
      "label = -17.64683149544249, y_cap = -14.168600861708335, loss =12.098088341446713\n",
      "label = -16.83275812356937, y_cap = -13.343272368277212, loss =12.176510836386882\n",
      "label = -13.11739620003551, y_cap = -12.517943874846088, loss =0.35934309017500393\n",
      "label = -15.780929941760284, y_cap = -11.692615381414965, loss =16.71431594433154\n",
      "label = -10.336572866071798, y_cap = -10.867286887983843, loss =0.2816573730540588\n",
      "label = -10.510925379185528, y_cap = -10.04195839455272, loss =0.2199300326755877\n",
      "label = -6.606441462828855, y_cap = -9.216629901121596, loss =6.813083683397101\n",
      "label = -9.972482045419778, y_cap = -8.391301407690472, loss =2.5001322091300535\n",
      "label = -5.510027748979991, y_cap = -7.565972914259351, loss =4.226910522635576\n",
      "label = -5.887948656035161, y_cap = -6.740644420828229, loss =0.7270900672960348\n",
      "label = -5.495158810218844, y_cap = -5.9153159273971045, loss =0.17653200311554657\n",
      "label = -5.23741480441098, y_cap = -5.08998743396598, loss =0.021734829556327124\n",
      "label = -4.394176336316252, y_cap = -4.26465894053486, loss =0.01677475580999385\n",
      "label = -3.8507292234863244, y_cap = -3.439330447103737, loss =0.16924895320909003\n",
      "label = -4.6030717352481565, y_cap = -2.614001953672611, loss =3.956398595976988\n",
      "label = -0.6248941831430079, y_cap = -1.7886734602414893, loss =1.354382205803864\n",
      "label = 2.257961719427353, y_cap = -0.9633449668103673, loss =10.376816766799841\n",
      "label = 2.808287140860644, y_cap = -0.13801647337924527, loss =8.680704987283036\n",
      "label = -0.40404068393031944, y_cap = 0.6873120200518767, loss =1.1910507244892512\n",
      "label = -0.9188402491120884, y_cap = 1.5126405134830025, loss =5.912098698870004\n",
      "label = 3.761241467933008, y_cap = 2.3379690069141246, loss =2.0257044982947487\n",
      "label = 6.115776297750616, y_cap = 3.1632975003452466, loss =8.717131049128254\n",
      "label = 1.3129149710024293, y_cap = 3.9886259937763717, loss =7.159429477393977\n",
      "label = 8.50905956345204, y_cap = 4.813954487207495, loss =13.653801524488204\n",
      "label = 1.8539229632814584, y_cap = 5.639282980638615, loss =14.328950461006174\n",
      "label = 4.463505090760633, y_cap = 6.464611474069738, loss =4.004426757320445\n",
      "label = 4.388861973962049, y_cap = 7.28993996750086, loss =8.416253524595174\n",
      "label = 11.567718942043069, y_cap = 8.115268460931985, loss =11.919414324524157\n",
      "label = 5.650289910302923, y_cap = 8.940596954363107, loss =10.826120444192068\n",
      "label = 11.43994754126248, y_cap = 9.76592544779423, loss =2.8023499694198253\n",
      "label = 8.992100839936162, y_cap = 10.591253941225355, loss =2.557290641362845\n",
      "label = 11.611135185558922, y_cap = 11.416582434656476, loss =0.03785077288370914\n",
      "label = 10.655868157889445, y_cap = 12.241910928087599, loss =2.515531668897832\n",
      "label = 12.808810062400944, y_cap = 13.067239421518721, loss =0.06678573365402488\n",
      "label = 14.104808176382534, y_cap = 13.892567914949844, loss =0.04504592857301666\n",
      "label = 17.406016300399678, y_cap = 14.717896408380964, loss =7.2259885538667\n",
      "label = 14.494302082787641, y_cap = 15.543224901812096, loss =1.1002390802702087\n",
      "label = 16.603848801298696, y_cap = 16.368553395243218, loss =0.05536392811081225\n",
      "label = 17.814355792798832, y_cap = 17.193881888674337, loss =0.38498786569949284\n",
      "label = 19.121145351449357, y_cap = 18.01921038210546, loss =1.2142606766629365\n",
      "label = 17.882467304076474, y_cap = 18.844538875536582, loss =0.9255817086117208\n",
      "label = 20.70632485777608, y_cap = 19.669867368967704, loss =1.0742441261069675\n",
      "[ 2.02205481 -0.55068072]\n"
     ]
    }
   ],
   "source": [
    "def my_loss(y_i, y_cap):\n",
    "    return pow(y_i -y_cap,2)\n",
    "\n",
    "def predict(points, labels, w):\n",
    "    risk = 0\n",
    "    predictions = []\n",
    "    for i in range(0, len(points)):\n",
    "        point_x = points[i]\n",
    "        label = labels[i]\n",
    "        y_cap = np.dot(w, point_x) \n",
    "        predictions.append(y_cap)\n",
    "        loss = my_loss(label, y_cap)\n",
    "        print(f\"label = {label}, y_cap = {y_cap}, loss ={loss}\")\n",
    "        risk += loss\n",
    "    #print(risk)\n",
    "    return risk, predictions\n",
    "w_cap = calculate_weights(x, y)\n",
    "risk, predictions = predict(x, y, w_cap)\n",
    "print(w_cap)"
   ]
  },
  {
   "cell_type": "markdown",
   "metadata": {},
   "source": [
    "#### 2.5 **[2pt]** Plot the data and the model.\n",
    "\n",
    "You should be able to partially reuse the printing code from the last lab (particularly plot and params-to-boundary conversion), but feel free to customize it as you need.\n",
    "I will keep repeating this for a while more: careful with the bias!  \n",
    "(Think: you can plot the model's predictions very easily if you use linear algebra, do you understand what is `x.dot(w)`?)"
   ]
  },
  {
   "cell_type": "code",
   "execution_count": 5,
   "metadata": {},
   "outputs": [
    {
     "name": "stdout",
     "output_type": "stream",
     "text": [
      "[-10.          -9.59183673  -9.18367347  -8.7755102   -8.36734694\n",
      "  -7.95918367  -7.55102041  -7.14285714  -6.73469388  -6.32653061\n",
      "  -5.91836735  -5.51020408  -5.10204082  -4.69387755  -4.28571429\n",
      "  -3.87755102  -3.46938776  -3.06122449  -2.65306122  -2.24489796\n",
      "  -1.83673469  -1.42857143  -1.02040816  -0.6122449   -0.20408163\n",
      "   0.20408163   0.6122449    1.02040816   1.42857143   1.83673469\n",
      "   2.24489796   2.65306122   3.06122449   3.46938776   3.87755102\n",
      "   4.28571429   4.69387755   5.10204082   5.51020408   5.91836735\n",
      "   6.32653061   6.73469388   7.14285714   7.55102041   7.95918367\n",
      "   8.36734694   8.7755102    9.18367347   9.59183673  10.        ]\n"
     ]
    },
    {
     "data": {
      "text/plain": [
       "<AxesSubplot:>"
      ]
     },
     "execution_count": 5,
     "metadata": {},
     "output_type": "execute_result"
    },
    {
     "data": {
      "image/png": "[encoded data removed]",
      "text/plain": [
       "<Figure size 576x432 with 1 Axes>"
      ]
     },
     "metadata": {},
     "output_type": "display_data"
    }
   ],
   "source": [
    "original_x = x[:,0]\n",
    "print(original_x)\n",
    "original_y = y\n",
    "%matplotlib inline\n",
    "import matplotlib.pyplot as plt\n",
    "import seaborn as sns\n",
    "sns.set(rc={'figure.figsize':(8,6)}, style=\"whitegrid\")\n",
    "sns.scatterplot(x=original_x, y=original_y,\n",
    "                #hue=labels, # let's use different colors for the two classes\n",
    "                palette=sns.color_palette(['darkred', 'darkblue']),\n",
    "                s=100)\n",
    "sns.lineplot(x=original_x, y=predictions, color='black')"
   ]
  },
  {
   "cell_type": "markdown",
   "metadata": {},
   "source": [
    "#### 2.6 **[2pt]** Find Linear Regression in scikit-learn and train a model on the data."
   ]
  },
  {
   "cell_type": "markdown",
   "metadata": {},
   "source": [
    "The input to the `fit()` function should be a matrix and a vector, so try forcing `actual_x` into a $n\\times 1$ matrix by using `actual_x.reshape((-1, 1))`. If you want to predict the outputs, you simply need to pass the same data matrix to the method `predict()`.  "
   ]
  },
  {
   "cell_type": "code",
   "execution_count": 6,
   "metadata": {},
   "outputs": [
    {
     "name": "stdout",
     "output_type": "stream",
     "text": [
      "[-20.77122881 -19.94590032 -19.12057182 -18.29524333 -17.46991484\n",
      " -16.64458634 -15.81925785 -14.99392936 -14.16860086 -13.34327237\n",
      " -12.51794387 -11.69261538 -10.86728689 -10.04195839  -9.2166299\n",
      "  -8.39130141  -7.56597291  -6.74064442  -5.91531593  -5.08998743\n",
      "  -4.26465894  -3.43933045  -2.61400195  -1.78867346  -0.96334497\n",
      "  -0.13801647   0.68731202   1.51264051   2.33796901   3.1632975\n",
      "   3.98862599   4.81395449   5.63928298   6.46461147   7.28993997\n",
      "   8.11526846   8.94059695   9.76592545  10.59125394  11.41658243\n",
      "  12.24191093  13.06723942  13.89256791  14.71789641  15.5432249\n",
      "  16.3685534   17.19388189  18.01921038  18.84453888  19.66986737]\n",
      "2.0220548089062516 -0.550680720094807\n"
     ]
    }
   ],
   "source": [
    "from sklearn.linear_model import LinearRegression\n",
    "linear = LinearRegression()\n",
    "reg = linear.fit(x, original_y)\n",
    "sci_w, sci_b = [reg.coef_[0], reg.intercept_]\n",
    "sci_pred = []\n",
    "sci_pred = reg.predict(x)\n",
    "    \n",
    "print(sci_pred)\n",
    "print(sci_w, sci_b)"
   ]
  },
  {
   "cell_type": "markdown",
   "metadata": {},
   "source": [
    "#### 2.7 **[1pt]** Plot in a single figure: (i) the data points as a scatterplot; (ii) the model you learned using your implementation of Linear Regression; (iii) the model you trained using the scikit-implementation."
   ]
  },
  {
   "cell_type": "markdown",
   "metadata": {},
   "source": [
    "Careful, it may be that you plot both but they are exactly the same, so they are superimposed and you only see one line. To verify this you can try plotting them with different colors and different thickness, or changing the linestyle (e.g. one normal line and one dashed line). A list of available linestyles can be found in the [matplotlib documentation](https://matplotlib.org/3.5.1/gallery/lines_bars_and_markers/linestyles.html).\n",
    "\n",
    "To get the parametrization of the sklearn implementation use the following:  \n",
    "`w_skl = [trained.coef_[0], trained.intercept_]`  \n",
    "Do you understand what this does? Can you see how this corresponds to what we did last week? In future assignments you will need to find the model parametrization by yourself!"
   ]
  },
  {
   "cell_type": "code",
   "execution_count": 95,
   "metadata": {},
   "outputs": [
    {
     "data": {
      "text/plain": [
       "<matplotlib.axes._subplots.AxesSubplot at 0x7fcfa057a520>"
      ]
     },
     "execution_count": 95,
     "metadata": {},
     "output_type": "execute_result"
    },
    {
     "data": {
      "image/png": "[encoded data removed]",
      "text/plain": [
       "<Figure size 576x432 with 1 Axes>"
      ]
     },
     "metadata": {},
     "output_type": "display_data"
    }
   ],
   "source": [
    "sns.set(rc={'figure.figsize':(8,6)}, style=\"whitegrid\")\n",
    "sns.scatterplot(x=original_x, y=original_y,\n",
    "                #hue=labels, # let's use different colors for the two classes\n",
    "                palette=sns.color_palette(['darkred', 'darkblue']),\n",
    "                s=100)\n",
    "sns.lineplot(x=original_x, y=sci_pred, color='red')\n",
    "sns.lineplot(x=original_x, y=predictions, color='black', style=True, dashes=[(2,2)])\n"
   ]
  },
  {
   "cell_type": "markdown",
   "metadata": {},
   "source": [
    "# 3. Linear Discriminant Analysis"
   ]
  },
  {
   "cell_type": "markdown",
   "metadata": {},
   "source": [
    "We switch now into *binary classification*. Let's load the iris dataset once again for this exercise, and carefully selecting the data to have an easy binary classification problem (for now). Notice we are **not** using classes ${-1, +1}$ anymore, because we do not need to compute a Margin here."
   ]
  },
  {
   "cell_type": "code",
   "execution_count": 8,
   "metadata": {},
   "outputs": [
    {
     "data": {
      "text/plain": [
       "array([2, 2, 2, 2, 2, 2, 2, 2, 2, 2, 2, 2, 2, 2, 2, 2, 2, 2, 2, 2, 2, 2,\n",
       "       2, 2, 2, 2, 2, 2, 2, 2, 2, 2, 2, 2, 2, 2, 2, 2, 2, 2, 2, 2, 2, 2,\n",
       "       2, 2, 2, 2, 2, 2, 1, 1, 1, 1, 1, 1, 1, 1, 1, 1, 1, 1, 1, 1, 1, 1,\n",
       "       1, 1, 1, 1, 1, 1, 1, 1, 1, 1, 1, 1, 1, 1, 1, 1, 1, 1, 1, 1, 1, 1,\n",
       "       1, 1, 1, 1, 1, 1, 1, 1, 1, 1, 1, 1, 1, 1, 1, 1, 1, 1, 1, 1, 1, 1,\n",
       "       1, 1, 1, 1, 1, 1, 1, 1, 1, 1, 1, 1, 1, 1, 1, 1, 1, 1, 1, 1, 1, 1,\n",
       "       1, 1, 1, 1, 1, 1, 1, 1, 1, 1, 1, 1, 1, 1, 1, 1, 1, 1])"
      ]
     },
     "execution_count": 8,
     "metadata": {},
     "output_type": "execute_result"
    }
   ],
   "source": [
    "import numpy as np\n",
    "from sklearn.datasets import load_iris\n",
    "iris_x, iris_y = load_iris(return_X_y=True) # print these points to understand them!\n",
    "x1 = np.array([r[0] for r in iris_x]) # first feature\n",
    "x2 = np.array([r[2] for r in iris_x]) # third feature\n",
    "\n",
    "x = np.array([x1, x2]).transpose() # numpy gives us transpose() for free\n",
    "# Reduce the three classes into two for binary classification {1, 2}\n",
    "y = np.array([1 if y in [1,2] else 2 for y in iris_y])\n",
    "y"
   ]
  },
  {
   "cell_type": "markdown",
   "metadata": {},
   "source": [
    "To solve LDA we need to find the parametrization $\\theta_y=(\\mu_y, \\Sigma, \\pi_y)$. Since $\\mu$ and $\\pi$ are class-dependent, remember to first split the input data based on which class it belongs to."
   ]
  },
  {
   "cell_type": "markdown",
   "metadata": {},
   "source": [
    "#### 3.1 **[1pt]** Write a (Python) function that takes a dataset (inputs and labels) in input and returns a dictionary hashing each of the $m$ classes to the a list of the points belonging to that class. We will call this `partition` in the next questions."
   ]
  },
  {
   "cell_type": "markdown",
   "metadata": {},
   "source": [
    "Hint: the method `dict.get(<key>, <def>)` can be used to fetch values from a dictionary same as `dict[<key>]`, but when the key is not found it returns the second argument, which is the _default value_... what if you pass an empty list..."
   ]
  },
  {
   "cell_type": "code",
   "execution_count": 2,
   "metadata": {},
   "outputs": [
    {
     "ename": "NameError",
     "evalue": "name 'x' is not defined",
     "output_type": "error",
     "traceback": [
      "\u001b[0;31m---------------------------------------------------------------------------\u001b[0m",
      "\u001b[0;31mNameError\u001b[0m                                 Traceback (most recent call last)",
      "Input \u001b[0;32mIn [2]\u001b[0m, in \u001b[0;36m<cell line: 8>\u001b[0;34m()\u001b[0m\n\u001b[1;32m      6\u001b[0m         partition\u001b[38;5;241m.\u001b[39mget(y[i])\u001b[38;5;241m.\u001b[39mappend([x[i][\u001b[38;5;241m0\u001b[39m], x[i][\u001b[38;5;241m1\u001b[39m]])\n\u001b[1;32m      7\u001b[0m     \u001b[38;5;28;01mreturn\u001b[39;00m partition\n\u001b[0;32m----> 8\u001b[0m partition \u001b[38;5;241m=\u001b[39m get_partition(\u001b[43mx\u001b[49m, y)\n\u001b[1;32m      9\u001b[0m \u001b[38;5;28mprint\u001b[39m(x)\n",
      "\u001b[0;31mNameError\u001b[0m: name 'x' is not defined"
     ]
    }
   ],
   "source": [
    "def get_partition(x, y):\n",
    "    partition  = {}\n",
    "    for i in range(0, len(x)):\n",
    "        if y[i] not in partition:\n",
    "            partition[y[i]] = []\n",
    "        partition.get(y[i]).append([x[i][0], x[i][1]])\n",
    "    return partition\n",
    "partition = get_partition(x, y)\n",
    "print(x)\n",
    "#print(partition)\n",
    "#print(len(partition[1]), len(partition[2]), len(x))"
   ]
  },
  {
   "cell_type": "markdown",
   "metadata": {},
   "source": [
    "#### 3.2 **[1pt]** Write a function that takes the `partition` in input and returns a dictionary hashing each class to its corresponding prototype $\\mu_y$."
   ]
  },
  {
   "cell_type": "markdown",
   "metadata": {},
   "source": [
    "Hint: function `dict.items()` returns a list of pairs `(key, value)` from the dictionary.\n",
    "Then a _dictionary comprehension_ works same as a list comprehension, with a `for` loop that generates elements. Only this time you need to pass both a key and a value like this:\n",
    "```python\n",
    "d = { the_key: compute_value(a, b) for a, b in another_dict.items() }\n",
    "```\n",
    "If you can use that then the answer is basically one line. If it is complicated instead, write explicit `for` loops, which are exactly equivalent (and perhaps even more readable:\n",
    "```python\n",
    "d = {}\n",
    "for a, b in another_dict.items():\n",
    "    d[the_key] = compute_value(a, b)\n",
    "```\n",
    "Just find a style that is comfortable with you. May take a few weeks but you will get there."
   ]
  },
  {
   "cell_type": "code",
   "execution_count": 10,
   "metadata": {},
   "outputs": [
    {
     "name": "stdout",
     "output_type": "stream",
     "text": [
      "{2: [5.005999999999999, 1.4620000000000002], 1: [6.261999999999998, 4.906000000000001]}\n"
     ]
    }
   ],
   "source": [
    "def get_total(index, values):\n",
    "    total = 0\n",
    "    for val in values:\n",
    "        total+= val[index]\n",
    "    return total\n",
    "\n",
    "def calculate_mean( values):\n",
    "    #print(values)\n",
    "    m1 = get_total(0,values)/(len(values))\n",
    "    m2 = get_total(1,values)/(len(values))\n",
    "    #print(m1,m2)\n",
    "    return [m1, m2]\n",
    "def get_means(partition):\n",
    "    means = {}\n",
    "    for key, val in partition.items():\n",
    "        means[key] = calculate_mean(val)\n",
    "    return means\n",
    "means = get_means(partition)\n",
    "print(means)\n",
    "#partition[1]"
   ]
  },
  {
   "cell_type": "markdown",
   "metadata": {},
   "source": [
    "#### 3.3 **[1pt]** Write a function that takes the `partition` in input and returns a dictionary hashing each class to its corresponding prior $\\pi_y$."
   ]
  },
  {
   "cell_type": "code",
   "execution_count": 11,
   "metadata": {},
   "outputs": [
    {
     "name": "stdout",
     "output_type": "stream",
     "text": [
      "{2: 0.3333333333333333, 1: 0.6666666666666666}\n"
     ]
    }
   ],
   "source": [
    "def get_prior_dict(partition):\n",
    "    total = 0\n",
    "    priors = {}\n",
    "    for key, val in partition.items():\n",
    "        total += len(val)\n",
    "    for key, val in partition.items():\n",
    "        priors[key] = len(val)/total\n",
    "    return priors\n",
    "priors = get_prior_dict(partition)\n",
    "print(priors)"
   ]
  },
  {
   "cell_type": "markdown",
   "metadata": {},
   "source": [
    "#### 3.4 **[4pt]** Write a function that takes the `partition` in input and the class-wise center estimates (the means from above) and returns the corresponding $\\Sigma$ (one for all classes and all inputs).\n",
    "You may need to use `np.concatenate()` to join the $x_i - \\hat{\\mu}_{y_i}$ from each class. Print the `array.shape` (property not method so no `()`) to verify if your linear algebra is on point so far: the covariance matrix between all inputs should have as many rows (and columns) as the number of features (hint: that's 2). Example: `assert sigma.shape == (2,2)` should not raise an error."
   ]
  },
  {
   "cell_type": "code",
   "execution_count": 15,
   "metadata": {},
   "outputs": [
    {
     "name": "stdout",
     "output_type": "stream",
     "text": [
      "[[0.33055867 0.30456133]\n",
      " [0.30456133 0.45969467]]\n"
     ]
    }
   ],
   "source": [
    "def get_new_sigma(partition, means):\n",
    "    sigma = []\n",
    "    for key, points in partition.items():\n",
    "        curr_mean = means.get(key)\n",
    "        #val1, val2 = 0, 0\n",
    "        for point in points:\n",
    "            difference = np.subtract(point, curr_mean)\n",
    "            #print(difference)\n",
    "            #transposed = np.transpose([difference])\n",
    "            sigma.append(np.array(difference))\n",
    "    sigma_t = np.transpose(sigma)\n",
    "    res = (1/len(sigma))*np.dot(sigma_t, sigma)\n",
    "    #print(res)\n",
    "    return res\n",
    "sigma = get_new_sigma(partition, means)   \n",
    "print(sigma)"
   ]
  },
  {
   "cell_type": "markdown",
   "metadata": {},
   "source": [
    "#### 3.5 **[5pt]** Write the function for the decision boundary of LDA $f(x)$."
   ]
  },
  {
   "cell_type": "markdown",
   "metadata": {},
   "source": [
    "You can find the logarithm in the `math` module: `from math import log` then just `l = log(a)`. You need to implement the equations for $w$ and $q$ from the slides: this cell will be very math heavy, be careful though and you should be able to get it right in few lines. Remember to check for the shape of $w$ and $b$ to verify if your matrix products are computed the right way. You want $w$ to be of length 2, and $b$ is a scalar."
   ]
  },
  {
   "cell_type": "code",
   "execution_count": 13,
   "metadata": {},
   "outputs": [
    {
     "name": "stdout",
     "output_type": "stream",
     "text": [
      "65.6139271748771\n",
      "61.39452614748603\n",
      "[-7.96528842 12.76916894] 4.912548207951017\n"
     ]
    }
   ],
   "source": [
    "from math import log\n",
    "sigma_i =  np.linalg.pinv(sigma)\n",
    "difference = np.subtract(means.get(1) ,means.get(2))\n",
    "w = np.dot(sigma_i, difference)\n",
    "#print(w)\n",
    "u2_t = np.transpose(np.array(means.get(2)))\n",
    "u1_t = np.transpose(np.array(means.get(1)))\n",
    "#print(u2_t, sigma_i)\n",
    "step1 = np.dot(u2_t, sigma_i)\n",
    "step2 = 0.5*np.dot(step1, np.array(means.get(2)))\n",
    "print(step2)\n",
    "step3 = np.dot(u1_t, sigma_i)\n",
    "step4 = 0.5*np.dot(step3, np.array(means.get(1)))\n",
    "print(step4)\n",
    "b = step2 - step4 + log(priors.get(1)) - log(priors.get(2))\n",
    "print(w,b)"
   ]
  },
  {
   "cell_type": "markdown",
   "metadata": {},
   "source": [
    "#### 3.6 **[2pt]** Plot the LDA decision boundary on top of the data."
   ]
  },
  {
   "cell_type": "markdown",
   "metadata": {},
   "source": [
    "- Notice that we are using different data from the Linear Regression questions above, and that our model now generated $w$ and $b$ separately, so you **need** to adapt the plotting functions -- actually it's quicker to just rewrite them.\n",
    "- Plotting is one of few applications where generalizing your code just makes for a stunted replica of the original (better) interface, so specialize when needed but for different applications just write a new one rather than reusing your code.\n",
    "- Remember that we already had a good plotting function for a classification problem just last week, why don't you check it out again?\n",
    "- Finally, remember that you already have code that converts a parametrization from $w$ and $b$ to $m$ and $q$ (last assignment), you can simply copy+paste it here to simplify your generation of the model's points."
   ]
  },
  {
   "cell_type": "code",
   "execution_count": 363,
   "metadata": {},
   "outputs": [
    {
     "name": "stdout",
     "output_type": "stream",
     "text": [
      "m: 0.6237906674023647, q: -0.38545304584336904\n"
     ]
    },
    {
     "data": {
      "text/plain": [
       "<matplotlib.axes._subplots.AxesSubplot at 0x7fcf85f60ac0>"
      ]
     },
     "execution_count": 363,
     "metadata": {},
     "output_type": "execute_result"
    },
    {
     "data": {
      "image/png": "[encoded data removed]",
      "text/plain": [
       "<Figure size 576x432 with 1 Axes>"
      ]
     },
     "metadata": {},
     "output_type": "display_data"
    }
   ],
   "source": [
    "%matplotlib inline\n",
    "import matplotlib.pyplot as plt\n",
    "import seaborn as sns\n",
    "\n",
    "def wb2mq(w, b):\n",
    "    assert len(w) == 2, \"This implementation only works in 2D\"\n",
    "    assert w[0] != 0 and w[1] != 0 and b != 0 # avoid edge cases for now\n",
    "    return [w[0]/-w[1], b/-w[1]] # m and q\n",
    "\n",
    "def params2boundary(w, b):\n",
    "    m, q = wb2mq(w, b)\n",
    "    print(f\"m: {m}, q: {q}\")\n",
    "    return lambda x: m*x + q\n",
    "equation = params2boundary(w, b)\n",
    "sns.set(rc={'figure.figsize':(8,6)}, style=\"whitegrid\")\n",
    "sns.scatterplot(x=x1, y=x2,\n",
    "                hue=y, # let's use different colors for the two classes\n",
    "                palette=sns.color_palette(['darkred', 'darkblue']),\n",
    "                s=100)\n",
    "sns.scatterplot(x=means.get(1), y = means.get(2), hue=[1,2], palette= sns.color_palette(['green', 'pink']), s=300)\n",
    "my_y = [equation(inp) for inp in x1]\n",
    "my_y\n",
    "sns.lineplot(x=x1, y=[equation(inp) for inp in x1], color='black')"
   ]
  },
  {
   "cell_type": "markdown",
   "metadata": {},
   "source": [
    "#### 3.7 **[1pt]** Find LDA on scikit-learn; train a model on the data and add it to the print above (data + model from your implementation)."
   ]
  },
  {
   "cell_type": "markdown",
   "metadata": {},
   "source": [
    "You ned to pass the correct `solver` parameter to the sklearn constructor, check the documentation to understand what I mean. If you do not the result should still look exactly the same as your implementation (because the data is linearly separable), but you should be aware of which technique your library uses and we have not gotten to SVD yet.  \n",
    "Remember to make sure that you can distinguish the two boundaries even if they overlap (e.g. use different colors). If you use our conversions from last exercise you should also see the printed values of $m$ and $q$ and they are likely to differ in the least significant digits even though the graph looks the same.  \n",
    "Also consider that LDA is a **multiclass method**, and so its parametrization is in principle a list for the many boundaries: you need to access the coefficients of the _first_ (and here, only) boundary using `[trained_model.coef_[0], trained_model.intercept_[0]]`."
   ]
  },
  {
   "cell_type": "code",
   "execution_count": 1,
   "metadata": {},
   "outputs": [
    {
     "ename": "NameError",
     "evalue": "name 'x' is not defined",
     "output_type": "error",
     "traceback": [
      "\u001b[0;31m---------------------------------------------------------------------------\u001b[0m",
      "\u001b[0;31mNameError\u001b[0m                                 Traceback (most recent call last)",
      "Input \u001b[0;32mIn [1]\u001b[0m, in \u001b[0;36m<cell line: 3>\u001b[0;34m()\u001b[0m\n\u001b[1;32m      1\u001b[0m \u001b[38;5;28;01mfrom\u001b[39;00m \u001b[38;5;21;01msklearn\u001b[39;00m\u001b[38;5;21;01m.\u001b[39;00m\u001b[38;5;21;01mdiscriminant_analysis\u001b[39;00m \u001b[38;5;28;01mimport\u001b[39;00m LinearDiscriminantAnalysis\n\u001b[1;32m      2\u001b[0m lda \u001b[38;5;241m=\u001b[39m LinearDiscriminantAnalysis()\n\u001b[0;32m----> 3\u001b[0m lda\u001b[38;5;241m.\u001b[39mfit(\u001b[43mx\u001b[49m, y)\n\u001b[1;32m      4\u001b[0m w, b \u001b[38;5;241m=\u001b[39m lda\u001b[38;5;241m.\u001b[39mcoef_[\u001b[38;5;241m0\u001b[39m], lda\u001b[38;5;241m.\u001b[39mintercept_[\u001b[38;5;241m0\u001b[39m]\n\u001b[1;32m      5\u001b[0m \u001b[38;5;28mprint\u001b[39m(w,b)\n",
      "\u001b[0;31mNameError\u001b[0m: name 'x' is not defined"
     ]
    }
   ],
   "source": [
    "from sklearn.discriminant_analysis import LinearDiscriminantAnalysis\n",
    "lda = LinearDiscriminantAnalysis()\n",
    "lda.fit(x, y)\n",
    "w, b = lda.coef_[0], lda.intercept_[0]\n",
    "print(w,b)\n",
    "y_sci = lda.predict(x)\n",
    "\n",
    "sns.set(rc={'figure.figsize':(8,6)}, style=\"whitegrid\")\n",
    "sns.scatterplot(x=x1, y=x2,\n",
    "                hue=y, # let's use different colors for the two classes\n",
    "                palette=sns.color_palette(['darkred', 'darkblue']),\n",
    "                s=100)\n",
    "sns.scatterplot(x=means.get(1), y = means.get(2), hue=[1,2], palette= sns.color_palette(['green', 'pink']), s=300)\n",
    "sci_equation = params2boundary(w, b)\n",
    "sns.lineplot(x=x1, y=[sci_equation(inp) for inp in x1], color='orange')"
   ]
  },
  {
   "cell_type": "markdown",
   "metadata": {},
   "source": [
    "## At the end of the exercise"
   ]
  },
  {
   "cell_type": "markdown",
   "metadata": {},
   "source": [
    "Bonus question reward no points! Answering this will have no influence on your scoring, not at the assignment and not towards the exam score. But solving it will reward you with skills that will make the next lectures easier, give you real applications, and will be very good practice towards the exam.\n",
    "\n",
    "The solution for this questions will not be included in the regular lab solutions pdf, but you are welcome to open a discussion on the Moodle: we will support your addressing it, and you may meet other students that choose to solve this, and find a teammate for the next assignment that is willing to do things for fun and not only for score :)"
   ]
  },
  {
   "cell_type": "markdown",
   "metadata": {},
   "source": [
    "Let's see some multiclass classification. Copy the code loading the Iris dataset, you want to extract the same features (so you can plot in 2D), but keep the three classes.  \n",
    "_[think: does it matter what label does each class have? Could you use strings such as `['a', 'b', 'c']`?]_  \n",
    "Then run the scikit-learn LDA on the data to obtain a trained model. At this point you can open up the trained coefficients again, and rather than taking only the first like you did with `[trained.coef_[0], trained.intercept_[0]]`, you should have TWO $w$ vectors and TWO $b$ constants **per each pair** of classes.\n",
    "_[think: the space is actually split in several subspaces. Can you derive how many? Can you design a decision tree on top of the boundaries to do the classification as the number of boundaries grow?]_"
   ]
  },
  {
   "cell_type": "markdown",
   "metadata": {},
   "source": [
    "#### BONUS **[ZERO pt]** Plot the boundaries classifying the three species of Iris in the dataset based on the two features used so far."
   ]
  },
  {
   "cell_type": "code",
   "execution_count": null,
   "metadata": {},
   "outputs": [],
   "source": []
  },
  {
   "cell_type": "markdown",
   "metadata": {},
   "source": [
    "### Final considerations"
   ]
  },
  {
   "cell_type": "markdown",
   "metadata": {},
   "source": [
    "Stop for a moment and think how hard it was to derive these equations (in the lecture), and how hard it was instead to implement them (once you get them right). These are two very different skills.  \n",
    "To understand the derivation you need to think hard, express your concept in math (actually requiring broad knowledge of many of its subfields), see it through with absolute precision, and finally correctly solve the equations.  \n",
    "To implement the method, you need to map the math to the correct function calls (hard, but arguably less), and you only ever work with the final solution, but you deal with programming languages and libraries and documentations.  \n",
    "This is the reason why so many people nowadays broadly advertise machine learning skills after taking short tutorials. But if you do not understand what a parameter is for, you will only be guessing which value to use.\n",
    "\n",
    "The reason why you are sweating so much on this course is to gain an edge over all of those who only ever learn to _use_ the tools: by instead _making_ the tools you understand them from the inside out, their applications and limitations, and even become capable of adapting and improving them.  \n",
    "Keep up: this course is not easy, but machine learning has become unavoidable in your field, and these foundations will enable you to bend the whole field to your needs."
   ]
  }
 ],
 "metadata": {
  "kernelspec": {
   "display_name": "Python 3 (ipykernel)",
   "language": "python",
   "name": "python3"
  },
  "language_info": {
   "codemirror_mode": {
    "name": "ipython",
    "version": 3
   },
   "file_extension": ".py",
   "mimetype": "text/x-python",
   "name": "python",
   "nbconvert_exporter": "python",
   "pygments_lexer": "ipython3",
   "version": "3.8.3"
  }
 },
 "nbformat": 4,
 "nbformat_minor": 4
}
