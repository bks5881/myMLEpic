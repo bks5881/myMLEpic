{
 "cells": [
  {
   "cell_type": "markdown",
   "metadata": {},
   "source": [
    "Please fill in your name and that of your teammate.\n",
    "\n",
    "You: Bhargav Solanki\n",
    "\n",
    "Teammate: Carmen Sangro Prieto"
   ]
  },
  {
   "cell_type": "markdown",
   "metadata": {},
   "source": [
    "# Introduction"
   ]
  },
  {
   "cell_type": "markdown",
   "metadata": {},
   "source": [
    "Welcome to the eighth lab. Today we have _way too many_ topics to cover to do everything by hand as usual, so I selected different depths to each topic to make sure you gain full insight and applicable experience.\n",
    "\n",
    "As you go through the exercise and you apply algorithm after algorithm, method after method, I want you to think about the actual **competence** you are accumulating over the months, both theoretical and applied. Think about it, and be confident: covering so many, so different algorithms in a single lab may sound like a challenge to the version of Past You from barely two months ago, but I believe Today's You is capable of taking on this whale of a lab and have space for more.\n",
    "\n",
    "Working with many algorithms gives me another chance to shake you out of your confidence zone with respect to _data processing_ . Basically each algorithm requires different formats, so you cannot just define the data on top and keep reusing it: you will need to re-load the dataset for each exercise, applying a different processing each time.\n",
    "Be flexible, and don't forget your train-test splits (and their correct usage) -- I should not need to mention it anymore, right? :)\n",
    "\n",
    "Good luck, have fun!"
   ]
  },
  {
   "cell_type": "markdown",
   "metadata": {},
   "source": [
    "### How to pass the lab?"
   ]
  },
  {
   "cell_type": "markdown",
   "metadata": {},
   "source": [
    "Below you find the exercise questions. Each question awarding points is numbered and states the number of points like this: **[0pt]**. To answer a question, fill the cell below with your answer (markdown for text, code for implementation). Incorrect or incomplete answers are in principle worth 0 points: to assign partial reward is only up to teacher discretion. Over-complete answers do not award extra points (though they are appreciated and will be kept under consideration). Save your work frequently! (`ctrl+s`)\n",
    "\n",
    "**You need at least 16 points (out of 24 available) to pass** (66%)."
   ]
  },
  {
   "cell_type": "markdown",
   "metadata": {},
   "source": [
    "# 1. Fundamentals"
   ]
  },
  {
   "cell_type": "markdown",
   "metadata": {},
   "source": [
    "#### 1.1 **[1pt]** Write an example (in English) of a Machine Learning application for which the Supervised Learning paradigm is not (directly) applicable."
   ]
  },
  {
   "cell_type": "markdown",
   "metadata": {},
   "source": [
    "For self driving cars, when they try to detect items on the road, we initially do not know if its a car, or person, i.e not all objects can be identified that it sees on the road. So it has first cluster it and check if it belongs to a cluster of obstacle or not. Then it will be labelled as obsctacle. "
   ]
  },
  {
   "cell_type": "markdown",
   "metadata": {},
   "source": [
    "#### 1.2 **[1pt]** Write an example (in English) of a Machine Learning application for which the Unsupervised Learning paradigm is an ideal choice."
   ]
  },
  {
   "cell_type": "markdown",
   "metadata": {},
   "source": [
    "The netflix recommendation system, clusters movies and shows together, based on my past viewing history. There is no label, and yet, I see good recommendations. This uses clustering."
   ]
  },
  {
   "cell_type": "markdown",
   "metadata": {},
   "source": [
    "# 2. Clustering"
   ]
  },
  {
   "cell_type": "markdown",
   "metadata": {},
   "source": [
    "#### 2.1 **[2pt]** Explain the $k$-means algorithm using a few words of your own. Particularly, state any requirements, and what the user needs to define."
   ]
  },
  {
   "cell_type": "markdown",
   "metadata": {},
   "source": [
    "- To use \"your own words\", a trick is to read the slide, decide which things you need to mention, then close the slide and imagine a friend with only basic technical background in front of you (aka \"rubberducking\", Google it!). Now tell this person the things that you decided to mention.\n",
    "- No need to go crazy. This is a type of (vague!) question that you will need to answer over and over, typically to convince your boss to let you use a particular method, or to guide someone with less knowledge in the field. It's not a right/wrong question: you need to show that you have competence, list the key points, be brief and to the point.\n",
    "- And of course, copy+paste+change words from the slide will score you 0 points :) while a sincere, fair try that is not wrong will pass, so no worries."
   ]
  },
  {
   "cell_type": "markdown",
   "metadata": {},
   "source": [
    "1. K is the hyper parameter that we set to decide how many clusters do we need.\n",
    "2. we start the process by randomly selecting some points as centroid of the k clusters. Here centroid is centre of a cluster. ( Birds of same feather, flock together)\n",
    "3. we then calculate the distance ( norm) of each point with the cluster and then assign each point to a cluster which is closest to the point.\n",
    "4. Now we calculate the new centroid based on the points assigned to the clusters.\n",
    "5. We discard the points in the clusters and keep track of the centroids,\n",
    "6. We repeat the process from step 3 a few times to ensure we get the best centroids.\n",
    "7. We then try different values of K from 1,2,3... n and pick the best k, such the points that are similar are in the same cluster, while the centroids of the cluster are far apart"
   ]
  },
  {
   "cell_type": "markdown",
   "metadata": {},
   "source": [
    "For the next question, we need to understand how to evaluate a clustering algorithm. The main difference between clustering and classification is that, well, it's UL not SL: the labels are not involved in the training, and they should not be involved in the testing. So how do you test the performance of a clustering algorithm?\n",
    "\n",
    "Each mean/cluster gets a numerical identifier, the only problem is that the number does not correspond to our labels because it's assigned randomly based on initialization. The most naïve way then is to brute-force all mappings between the labels and the cluster numbers: the one that makes the most sense is the one that should be used for evaluation. Since this is orthogonal to the lecture and may take a long time to debug, here is a snippet of code that does that.\n",
    "\n",
    "Read it, understand it, play with it, and possibly improve it. Bruteforcing is rarely optimal, which is the very reason why ML exists :)  \n",
    "(note: it may be easier to understand it if you first go ahead with answering the next question first, then come back to this)"
   ]
  },
  {
   "cell_type": "code",
   "execution_count": 3,
   "metadata": {},
   "outputs": [],
   "source": [
    "%matplotlib inline\n",
    "import matplotlib.pyplot as plt\n",
    "import seaborn as sns\n",
    "import numpy as np\n",
    "import pandas as pd\n",
    "sns.set(rc={'figure.figsize':(8,6)}, style=\"whitegrid\")"
   ]
  },
  {
   "cell_type": "code",
   "execution_count": 4,
   "metadata": {},
   "outputs": [],
   "source": [
    "# Goal: convert the labels to the cluster numbers generated by k-means\n",
    "import itertools\n",
    "from sklearn.model_selection import train_test_split\n",
    "species_names = sns.load_dataset('iris').species.unique()\n",
    "possible_codes = itertools.permutations(range(len(species_names)))\n",
    "converters = [dict(zip(species_names, perm)) for perm in possible_codes]\n",
    "#print(converters)\n",
    "# try printing each of these variables and understand what they do\n",
    "\n",
    "def my_misclass_fn(conv_y_test, results):\n",
    "    new_results = np.array(results)\n",
    "    temp = new_results == conv_y_test\n",
    "    #print(temp.shape[0]-temp.sum())\n",
    "    #print(conv_y_test)\n",
    "    #print(results)\n",
    "    return temp.shape[0]-temp.sum()\n",
    "\n",
    "# I modified this method. No need to calculate the result of model every time we call the method,\n",
    "# rather I call it once outside and pass it as a param, Makes it faster\n",
    "def cluster_to_class(fn_that_counts_misclassified, y_test, results):\n",
    "    min_score = np.Infinity # we saw how to write a minimizer already right?\n",
    "    right_conversion = None\n",
    "    for converter in converters:\n",
    "        conv_y_test = y_test.replace(converter) # conveniently works with `dict`s\n",
    "        misclassified = fn_that_counts_misclassified(conv_y_test, results)\n",
    "        if misclassified < min_score:\n",
    "            min_score = misclassified\n",
    "            right_conversion = converter\n",
    "    return right_conversion\n",
    "\n",
    "df = sns.load_dataset('iris')\n",
    "train, test = train_test_split(df, test_size=0.2)\n",
    "x_train = train[train.columns[:-1]]\n",
    "y_train = train[train.columns[-1]]\n",
    "x_test = test[test.columns[:-1]]\n",
    "y_test = test[test.columns[-1]]\n",
    "#print(x_train)\n",
    "\n",
    "## to use this function, you will need something like this\n",
    "# right_conversion = cluster_to_class(k_means_model, my_misclass_fn, x_test, y_test)\n",
    "# conv_y_test = y_test.replace(right_conversion)\n",
    "# k_means_misclassified = my_misclass_fn(k_means_model, x_test, conv_y_test)"
   ]
  },
  {
   "cell_type": "markdown",
   "metadata": {},
   "source": [
    "#### 2.2 **[3pt]** Apply the scikit-learn implementation of the $k$-means algorithm to the Iris dataset (4 features, but drop the labels for training), and print a performance score of your choice."
   ]
  },
  {
   "cell_type": "markdown",
   "metadata": {},
   "source": [
    "- Of course you want to pass $k=3$.\n",
    "- Passing the trained `KMeans` object to `print()` shows several useful parameters and their default values.\n",
    "- After you get it to work though, why don't you try $k=2$ or $k=4$ and see what happens when you have to _guess_ $k$ (which is the normal case in real applications).\n",
    "- For the performance score, remember this is [clustering, not classification](https://stackoverflow.com/a/48617825/6392246), which means `score()` will ignore the labels and print \"strange numbers\". No worries, you know how to make your own scoring from the past labs, right?\n",
    "- Notice how $k$-means is _very_ sensitive to initialization. To get a consistently better result you may want to explore options `max_iter`, `n_jobs` and of course `init`."
   ]
  },
  {
   "cell_type": "code",
   "execution_count": 5,
   "metadata": {},
   "outputs": [
    {
     "name": "stdout",
     "output_type": "stream",
     "text": [
      "Accuracy is 86.67%\n"
     ]
    }
   ],
   "source": [
    "from sklearn.cluster import KMeans\n",
    "df = sns.load_dataset('iris')\n",
    "x = df[df.columns[:-1]]\n",
    "labels = df[df.columns[:-1]]\n",
    "kmeans = KMeans(n_clusters=3, random_state=0, n_init=30, init='k-means++', max_iter=400)\n",
    "kmeans.fit(x_train)\n",
    "#print(kmeans)\n",
    "#print(kmeans.score(x_test))\n",
    "centroids = kmeans.cluster_centers_\n",
    "results = kmeans.predict(x_test)\n",
    "results\n",
    "right_conversion = cluster_to_class(my_misclass_fn, y_test, results)\n",
    "#print(right_conversion)\n",
    "#print(y_test)\n",
    "#print(results)\n",
    "missclassified = my_misclass_fn(y_test.replace(right_conversion), results)\n",
    "accuracy = round( ((len(results)-missclassified)/len(results))*100, 2)\n",
    "print(\"Accuracy is \" + str(accuracy) + \"%\")"
   ]
  },
  {
   "cell_type": "markdown",
   "metadata": {},
   "source": [
    "#### 2.3 **[1pt]** Plot the centroids learned with $k$-means on top of the data."
   ]
  },
  {
   "cell_type": "markdown",
   "metadata": {},
   "source": [
    "- To get the centroids coordinates, access attribute `cluster_centers_` of the KMeans object. Here are some options I passed to `scatterplot` for visibility (remember you can use the [double-splat](https://stackoverflow.com/questions/36901/what-does-double-star-asterisk-and-star-asterisk-do-for-parameters) to transform the dict into keyword parameters):\n",
    "```python\n",
    "kwargs = {'marker':'X', 'color':'r', 's':200, 'label':'centroids'}\n",
    "```\n",
    "- The question does not specify the details of what to plot, so it's up to you to provide a correct and useful interpretation. You learned how to make useful plots, just be confident.\n",
    "- The simplest is of course to reproduce what we saw so far: one plot, `petal_width` vs. `petal_length`. As they are the last two features, make sure to pick the corresponding coordinates from the centroids. Remember your ranges and your `transpose()` ;) \n",
    "- Even fancier: why not converting it to a DataFrame? Remember to drop the `species` column when constructing the `df`, as the centroids (learned with UL) have no species information (and thus one less column than iris): `columns=iris.columns.drop('species')`\n",
    "- After answering correctly, if you want to learn something useful and fancy, try plotting a [[PairGrid]](https://seaborn.pydata.org/generated/seaborn.PairGrid.html) that mimics a PairPlot but with added clusters off-diagonal. If you want the usual distributions on the diagonal, it is time to learn it is done with _Density Estimation_ (which is what you learned to do for Gaussians in NB), automated in Seaborn with `kdeplot()`."
   ]
  },
  {
   "cell_type": "code",
   "execution_count": 6,
   "metadata": {},
   "outputs": [
    {
     "name": "stdout",
     "output_type": "stream",
     "text": [
      "[[5.854      2.702      4.346      1.41      ]\n",
      " [5.01315789 3.42631579 1.47105263 0.25263158]\n",
      " [6.9        3.05       5.7375     2.028125  ]] [[4.346      1.41      ]\n",
      " [1.47105263 0.25263158]\n",
      " [5.7375     2.028125  ]]\n"
     ]
    },
    {
     "data": {
      "text/plain": [
       "<AxesSubplot:xlabel='petal_length', ylabel='petal_width'>"
      ]
     },
     "execution_count": 6,
     "metadata": {},
     "output_type": "execute_result"
    },
    {
     "data": {
      "image/png": "[encoded data removed]",
      "text/plain": [
       "<Figure size 576x432 with 1 Axes>"
      ]
     },
     "metadata": {},
     "output_type": "display_data"
    }
   ],
   "source": [
    "new_x_train = x_train[[ 'petal_length', 'petal_width']]\n",
    "new_x_test = x_test[[ 'petal_length', 'petal_width']]\n",
    "new_centroids = centroids[:, 2:]\n",
    "sns.scatterplot(x=new_x_test['petal_length'], y=new_x_test['petal_width'],\n",
    "      hue=y_test, # let's use different colors for the three classes\n",
    "      palette=sns.color_palette(['green', 'darkblue','red']),\n",
    "      s=100)\n",
    "print(centroids, new_centroids)\n",
    "sns.scatterplot(x=new_centroids[:,0], y = new_centroids[:,1], palette=sns.color_palette(['yellow']), s=300)"
   ]
  },
  {
   "cell_type": "markdown",
   "metadata": {},
   "source": [
    "Note: this is a very basic application: while a decent knowledge of $k$-means can typically be useful in itself, the focus here is to cements your understanding of clustering, centroid, expectation maximization, and the difference between clustering and classification. For further reading, I strongly suggest you have a look at [[this very complete tutorial]](https://towardsdatascience.com/k-means-clustering-algorithm-applications-evaluation-methods-and-drawbacks-aa03e644b48a)."
   ]
  },
  {
   "cell_type": "markdown",
   "metadata": {},
   "source": [
    "#### 2.4 **[2pt]** Train a scikit-learn OneClassSVM on the _versicolor_ class of the Iris dataset, and print the number of missed outliers."
   ]
  },
  {
   "cell_type": "markdown",
   "metadata": {},
   "source": [
    "- Careful with the input: you need to train this SVM only on the subset of the train data where the species is `versicolor`. That's \"one-class\". The training should not have access to data from the other two species.\n",
    "- Also remember to drop the species column (as always) after selecting the lines with `versicolor`.\n",
    "- The test inputs should work as expected, but the test labels should be converted so that `versicolor` is `1` and the others are `-1` (because those are the model outputs for \"normal\" and \"outlier\").\n",
    "- Again, to compute the missed outliers, you cannot use `score()` or `plot_confusion_matrix()` because technically it's not a classifier. But you already made a function of the scoring code for the previous question right?"
   ]
  },
  {
   "cell_type": "code",
   "execution_count": 211,
   "metadata": {},
   "outputs": [
    {
     "name": "stdout",
     "output_type": "stream",
     "text": [
      "[ 1 -1  1 -1  1  1  1  1 -1  1]\n",
      "96    1\n",
      "50    1\n",
      "54    1\n",
      "60    1\n",
      "66    1\n",
      "53    1\n",
      "74    1\n",
      "78    1\n",
      "77    1\n",
      "71    1\n",
      "Name: species, dtype: object\n",
      "Accuracy is 70.0%\n"
     ]
    }
   ],
   "source": [
    "from sklearn.svm import OneClassSVM\n",
    "#df.loc[df['species'] == 'versicolor', 'species'] = -1\n",
    "versis = df.loc[df['species'] == 'versicolor']\n",
    "versis.loc[versis['species'] == 'versicolor', 'species'] = 1\n",
    "\n",
    "v_train, v_test = train_test_split(versis, test_size=0.2)\n",
    "x_v_train = v_train[v_train.columns[:-1]]\n",
    "\n",
    "y_v_train = v_train[v_train.columns[-1]]\n",
    "x_v_test = v_test[v_test.columns[:-1]]\n",
    "y_v_test = v_test[v_test.columns[-1]]\n",
    "oneSvm = OneClassSVM(gamma='auto')\n",
    "oneSvm.fit(x_v_train)\n",
    "res = oneSvm.predict(x_v_test)\n",
    "print(res)\n",
    "#print(oneSvm.predict(x_v_test))\n",
    "print(y_v_test)\n",
    "miss = my_misclass_fn(np.array(y_v_test),res )\n",
    "#df.loc[df['species'] == 'versicolor', 'species'] = -1\n",
    "accuracy = round( ((len(y_v_test)-miss)/len(y_v_test))*100, 2)\n",
    "print(\"Accuracy is \" + str(accuracy) + \"%\")\n",
    "#converted"
   ]
  },
  {
   "cell_type": "markdown",
   "metadata": {},
   "source": [
    "# 3. Compression and encoding"
   ]
  },
  {
   "cell_type": "markdown",
   "metadata": {},
   "source": [
    "There are too many topics to cover for this lab. Having to choose one to cut off from practice, I had to objectively decide to remove my favorite one: compression and encoding. The reason is that in most jobs experience in the others will be more useful, while you will still see plenty of encoding techniques over the course. And the concept of dictionary building is related to $k$-means and feature extraction anyway.\n",
    "\n",
    "On the other hand, understanding dictionaries as features, and encodings as mappings, allows for a much deeper competence and broader flexibility in the field than being stuck to only the \"big guns\" of Deep Learning for this task.\n",
    "\n",
    "So my gift to you is one of my favorite papers so far: \"The Importance of Encoding Versus Training with Sparse Coding and Vector Quantization\", from A. Coates and A. Ng [[link]](http://ai.stanford.edu/~acoates/papers/coatesng_icml_2011.pdf).\n",
    "\n",
    "If you want to learn the state of the art, in any scientific field, you need to learn to read papers. A good suggestion not to be overwhelmed, especially at the beginning while building knowledge and glossary, is to read it this way\n",
    "\n",
    "- First the abstract\n",
    "- Then think about it and read the abstract again\n",
    "- Now read the introduction, but don't fret about terms you don't understand, it's normal\n",
    "- Next read the conclusion, and make sure their claims make sense with what you read so far\n",
    "- The \"discussion\" explains how they interpreted their results and built the conclusion, which could be invaluable to understand their claims\n",
    "- If you want more detail on the \"how\", check out the \"method\" section (here called \"learning framework\")\n",
    "- The \"related work\" (sometimes \"literature review\") gives you pointers to extend your study on the field and applications\n",
    "- Do not overlook \"experimental results\", as it will give you the means to reproduce their results. And yes, chances are your thesis (especially if Master) will begin by asking you to reproduce a paper's result. Repeatability and verification (the hypothesis needs to be falsifiable) are at the very core of the scientific process.\n",
    "\n",
    "So: go at least through abstract, introduction and conclusions, and then answer the following question:"
   ]
  },
  {
   "cell_type": "markdown",
   "metadata": {},
   "source": [
    "#### 3.1 **[4pt]** In the conclusion of the paper \"The Importance of Encoding Versus Training with Sparse Coding and Vector Quantization\", which part do the authors find more effective, the encoding (i.e. decision-making) or the dictionary training (i.e. feature extraction)? Reflect on the consequences on modeling, and express your opinion on Feature Extraction and Decision Mappings."
   ]
  },
  {
   "cell_type": "markdown",
   "metadata": {},
   "source": [
    "The solution will contain no \"right\" answer, just **my** answer. It actually constitutes one the foundations of my research. Full points will be awarded to anyone (i) asserting their opinion, and (ii) justifying it with findings from the paper."
   ]
  },
  {
   "cell_type": "markdown",
   "metadata": {},
   "source": [
    "As per me, the authors results suggest that encoding gives competetive, if not better, results than sparse coding with vector quantization. The choice of dictionary doesnt matter, as long as there is even a simple encoding.  They are basically suggesting that encoding in general makes performance better, on top of that sparse codding is efficient also because of  non-linear encoding scheme.\n",
    "I think so because, thats what the stated in the  section.\n",
    "```javascript\n",
    "We discover two surprising results:\n",
    "1. When using sparse coding as the encoder, virtually any training algorithm can be used to create\n",
    "a suitable dictionary. We can use VQ, or even\n",
    "randomly chosen exemplars to achieve very high\n",
    "performance.\n",
    "2. Regardless of the choice of dictionary, a very simple encoder (a soft thresholding function) can often be competitive with sparse coding.\n",
    "```\n",
    "Reflection on modelling:\n",
    "If we encode the data , that is we perform some manipulation on the data, we get much better results, \n",
    "Mapping allows for projection of data.  Once we have a encoder, we can use that to extract features, which will give good performance."
   ]
  },
  {
   "cell_type": "markdown",
   "metadata": {
    "tags": []
   },
   "source": [
    "# 4. Matrix decomposition"
   ]
  },
  {
   "cell_type": "markdown",
   "metadata": {},
   "source": [
    "#### 4.1 **[1pt]** For this data imputation exercise, use the entire Iris dataset (no split in train/test, but do drop `species`). Select the value in row index 110 column index 1, and store it in an outside variable. Then delete it from the dataset."
   ]
  },
  {
   "cell_type": "markdown",
   "metadata": {},
   "source": [
    "- To delete a value from a dataset, simply assign the `not a number` value `np.nan` to the corresponding element.\n",
    "- Have you tried using `drop()` to remove a column? Remember that the default axis is the rows, so you need to pass `axis=1` or `axis='columns'` to drop a column by name.\n",
    "- You can print a few rows around your target to verify everything is going as you expect."
   ]
  },
  {
   "cell_type": "code",
   "execution_count": 188,
   "metadata": {},
   "outputs": [
    {
     "name": "stdout",
     "output_type": "stream",
     "text": [
      "sepal_length    6.5\n",
      "sepal_width     NaN\n",
      "petal_length    5.1\n",
      "petal_width     2.0\n",
      "Name: 110, dtype: float64\n",
      "3.6\n",
      "2.7\n"
     ]
    }
   ],
   "source": [
    "matrix = df[df.columns[:-1]]\n",
    "temp = matrix.iloc[110][1] \n",
    "matrix.iloc[110][1]  = np.nan\n",
    "print(matrix.iloc[110])\n",
    "print(matrix.iloc[109][1])\n",
    "print(matrix.iloc[111][1])"
   ]
  },
  {
   "cell_type": "markdown",
   "metadata": {},
   "source": [
    "#### 4.2 **[4pt]** Reconstruct (impute) the missing value using SVD and dimensionality reduction-based denoising. Do not use scikit-learn. Use the SVD method from `np.linalg`. Print the (absolute) difference between the original and reconstructed values."
   ]
  },
  {
   "cell_type": "markdown",
   "metadata": {},
   "source": [
    "- Ok, relax, this is not your first complex question. As usual, deconstruct the process in smaller, achievable goals, then work through them step by step.\n",
    "- The first thing you need to do is to get rid of is the \"hole\" in the data, because SVD will not work with `nan` values. Simply patch it with an average of the values above and below in the same feature. We know this is not ideal, but no worries. BTW congratulations with this you just learned the foundation of the **$k$-nearest-neighbors algorithm (KNN)**.\n",
    "- Now decompose the entire dataframe('s data matrix) using the SVD implementation in numpy's `linalg` module. Read carefully the documentation: it does not return `u`, $\\Sigma$ and `v` as expected from the lecture! Instead you get `v` as expected $n \\times n$; `s` a vector of size $n$ containing the $\\sigma$ eigenvalues (the diagonal of $\\Sigma$, remember?); and `vh` $m \\times m$ is the transposition of `v` -- saves a transpose, but remember you will need to zero a _row_ not a _column_.\n",
    "- Next you want to drop the least contributing eigenvector. Find the smallest non-zero eigenvalue, and set to zero the corresponding column in `u` and row in `vh`. The relative size also tells you how much precision will you be losing with this reduction.\n",
    "- Now you can already reconstruct the data. Remember the order of the dot products matters. Also, you need to build your $\\Sigma$. There's an example in the documentation of SVD. Importantly: $\\Sigma$ is rectangular, the eigenvalues go in the diagonal of the first \"square\" of this matrix, the rest is zeros. You can set a range of rows and columns of a numpy rectangular matrix to (the values of) a diagonal matrix created with `np.diag()`, just match the sizes.\n",
    "- Fetch the value in the target element's position in the reconstruction matrix. Has it changed w.r.t. its initial estimate? Print the difference with the original and technically you're done.\n",
    "- If you are unsatisfied with the result though, you can run the cycle a few times. Place the code written so far in a function, so you can iterate multiple calls. Remember that you need to insert the new value in the _original matrix_ , and then loop all your calls to the denoising function on this matrix. Looping on the reconstruction is a common error which may cost you a lot! With every denoising you are losing a bit of information; copying only the value you are denoising reintegrates the information in the rest of the matrix, allowing for a much more accurate result.\n",
    "- I converge (i.e. no more significant changes) to within 0.07 of the correct value in 50 iterations. I also simply save the errors (abs diff) at every iteration, then do the usual `lineplot`. Nothing new, but these sanity checks are priceless when working with ML.\n",
    "- Alternatively: what happens if you drop two columns instead of one?"
   ]
  },
  {
   "cell_type": "code",
   "execution_count": 229,
   "metadata": {},
   "outputs": [
    {
     "name": "stdout",
     "output_type": "stream",
     "text": [
      "3.1500000000000004\n",
      "4\n",
      "3\n",
      "0.0063153606659280825\n",
      "Value is 3.193684639334072\n"
     ]
    }
   ],
   "source": [
    "# making it the mean\n",
    "#print(matrix)\n",
    "matrix.iloc[110][1] = (matrix.iloc[111][1] + matrix.iloc[109][1])  /2\n",
    "print(matrix.iloc[110][1])\n",
    "u, sigmas,v= np.linalg.svd(matrix)\n",
    "print(v.shape[0])\n",
    "#print(type(sigmas))\n",
    "minIndex = np.where(sigmas == np.amin(sigmas))[0][0]\n",
    "print(minIndex)\n",
    "u[minIndex] = 0\n",
    "v[minIndex] = 0\n",
    "sigmaMat = np.zeros((u.shape[0], v.shape[0]))\n",
    "sigmaMat[:v.shape[0], :v.shape[0]] = np.diag(sigmas)\n",
    "resultMatrix  = np.dot(u, np.dot(sigmaMat, v))\n",
    "#print(v)\n",
    "difference = abs(temp - resultMatrix[110][1])\n",
    "print(difference)\n",
    "print('Value is ' + str(resultMatrix[110][1]))"
   ]
  },
  {
   "cell_type": "markdown",
   "metadata": {},
   "source": [
    "#### 4.3 **[3pt]** Plot the entire Iris dataset (no split, keep the classes) projected into 2 dimensions using PCA. Use scikit-learn to compute the principal components."
   ]
  },
  {
   "cell_type": "markdown",
   "metadata": {},
   "source": [
    "- Yes, you need to reproduce the same picture as in the slides :)\n",
    "- You need a fresh copy of the Iris dataset, then `sklearn` requires the labels to be numeric. Do you remember the `astype('category').cat.codes` trick?\n",
    "- Check the documentation of PCA. You need to set the `n_components` parameter.\n",
    "- Projecting data on the principal components is much, much easier by using the `transform()` function.\n",
    "- For a neat one-line plot with Seaborn, convert the projected data back to a DataFrame and name the columns! Then add back the `species` column so you can use `hue` ;) and use a nice palette!"
   ]
  },
  {
   "cell_type": "code",
   "execution_count": 7,
   "metadata": {},
   "outputs": [
    {
     "name": "stdout",
     "output_type": "stream",
     "text": [
      "[[ 0.36138659 -0.08452251  0.85667061  0.3582892 ]\n",
      " [ 0.65658877  0.73016143 -0.17337266 -0.07548102]]\n",
      "<class 'list'>\n"
     ]
    },
    {
     "data": {
      "text/plain": [
       "<AxesSubplot:>"
      ]
     },
     "execution_count": 7,
     "metadata": {},
     "output_type": "execute_result"
    },
    {
     "data": {
      "image/png": "[encoded data removed]",
      "text/plain": [
       "<Figure size 576x432 with 1 Axes>"
      ]
     },
     "metadata": {},
     "output_type": "display_data"
    }
   ],
   "source": [
    "from sklearn.decomposition import PCA\n",
    "\n",
    "pca_df = sns.load_dataset('iris')\n",
    "pca_df.loc[pca_df['species'] == 'setosa', 'species'] = 1\n",
    "pca_df.loc[pca_df['species'] == 'versicolor', 'species'] = 2\n",
    "pca_df.loc[pca_df['species'] == 'virginica', 'species'] = 3\n",
    "#pca_df['species'] = pd.to_numeric(pca_df['species'])\n",
    "\n",
    "pca_x = pca_df.iloc[:,:-1]\n",
    "#print(pca_x)\n",
    "pca = PCA(n_components=2).fit(pca_x)\n",
    "components = pca.components_\n",
    "print(components)\n",
    "def helper(point, components):\n",
    "    #print(point)\n",
    "    #print(components)\n",
    "    x = np.dot(point, components[0])\n",
    "    y = np.dot(point, components[1])\n",
    "    return [x, y]\n",
    "pca_res = pca_x.apply(lambda x : helper(x, components), axis = 1).to_frame().iloc[:,0].tolist()\n",
    "print(type(pca_res))\n",
    "species = sns.load_dataset('iris')\n",
    "labels = species.iloc[:,-1].tolist()\n",
    "#print(labels)\n",
    "x,y = [], []\n",
    "for val in pca_res:\n",
    "    x.append(val[0])\n",
    "    y.append(val[1])\n",
    "\n",
    "sns.scatterplot(x=x, y=y, hue=labels,\n",
    "               palette=sns.color_palette(['blue', 'orange', 'green']),s=90)"
   ]
  },
  {
   "cell_type": "markdown",
   "metadata": {},
   "source": [
    "#### 4.4 **[2pt]** Explain (in English) the relationship between (classic) recommender systems and denoising. Then go one step further: to understand the current state of the art (not covered in the lecture), explain a recommender system in term of _mapping_."
   ]
  },
  {
   "cell_type": "markdown",
   "metadata": {},
   "source": [
    "- Modern recommender systems rarely use matrix decomposition approaches. Better results have been obtained modeling the mapping directly with flexible, generic function approximators with high generalization capabilities such as neural networks."
   ]
  },
  {
   "cell_type": "markdown",
   "metadata": {},
   "source": [
    "Classic reccomendation systems create a matrix. users on rows and areas of interest ( for eg, movies, tv shows, products etc) on columns. The entire data is one matrix and treated as a single entity. It accounds for noise. Denoising, ignores the lowest contributing eigenvectors and reconstructs the data. \n",
    "\n",
    "Part 2:\n",
    "I read this paper, https://link.springer.com/article/10.1007/s40747-020-00200-0 and I found that data can be mapped in several ways to ensure we get correct centroids. Which use different Meta-heuristic methods to find centroids like cuckoo search method https://en.wikipedia.org/wiki/Cuckoo_search#:~:text=Cuckoo%20search%20(CS)%20uses%20the,each%20nest%20has%20one%20egg. \n",
    "or map map reduce https://en.wikipedia.org/wiki/MapReduce.\n"
   ]
  },
  {
   "cell_type": "markdown",
   "metadata": {},
   "source": [
    "# At the end of the exercise"
   ]
  },
  {
   "cell_type": "markdown",
   "metadata": {},
   "source": [
    "Bonus question with no points! Answering this will have no influence on your scoring, not at the assignment and not towards the exam score -- really feel free to ignore it with no consequence. But solving it will reward you with skills that will make the next lectures easier, give you real applications, and will be good practice towards the exam.\n",
    "\n",
    "The solution for this questions will not be included in the regular lab solutions pdf, but you are welcome to open a discussion on the Moodle: we will support your addressing it, and you may meet other students that choose to solve this, and find a teammate for the next assignment that is willing to do things for fun and not only for score :)"
   ]
  },
  {
   "cell_type": "markdown",
   "metadata": {},
   "source": [
    "#### BONUS **[ZERO pt]** Clustering is the core of UL. Master $k$-means with this [[tutorial]](https://towardsdatascience.com/k-means-clustering-algorithm-applications-evaluation-methods-and-drawbacks-aa03e644b48a)."
   ]
  },
  {
   "cell_type": "markdown",
   "metadata": {},
   "source": [
    "#### BONUS **[ZERO pt]** Curious about implementing SVD in Python? It's not hard, here's a good tutorial: [[link]](https://machinelearningmastery.com/singular-value-decomposition-for-machine-learning/)."
   ]
  },
  {
   "cell_type": "markdown",
   "metadata": {},
   "source": [
    "#### BONUS **[ZERO pt]** Over the years, I found that whipping out a quick PCA often makes visual analysis of complex data much clearer and with minimal investment. Follow [this tutorial](http://bebi103.caltech.edu.s3-website-us-east-1.amazonaws.com/2015/tutorials/r5_pca.html) to get some experience at it. Challenge: no copy+paste allowed, type everything: muscle memory is much more effective at retaining experience than passive study. Particularly useful is the discussion at the end: learn that Dimensionality Reduction _hides_ information!! It is extremely dangerous to found your decisions on a PCA plot on a subset of axis (e.g. 2), people have lost entire careers on that! As always, each tools has its own utility and drawbacks, and you need to learn the consequences BEFORE you blindly call a library someone else wrote and bet your whole career on its output. :)"
   ]
  },
  {
   "cell_type": "markdown",
   "metadata": {},
   "source": [
    "#### BONUS **[ZERO pt]** Dictionary-based learning has tons of applications. This scikit-learn page contains a good explanation, reference to a library algorithm, an example, and even a link to the paper which published the algorithm [[link]](https://scikit-learn.org/stable/modules/generated/sklearn.decomposition.DictionaryLearning.html). I definitely suggest you have a good look at it."
   ]
  },
  {
   "cell_type": "markdown",
   "metadata": {},
   "source": [
    "#### BONUS **[ZERO pt]** Once you have a dictionary, you can learn about Sparse Coding here: [[link]](https://scikit-learn.org/stable/modules/generated/sklearn.decomposition.SparseCoder.html). If you want to see a cool application, Google for \"super resolution\": although some recent results use Neural Networks, early Sparse Coding results were used to detect congenital heart problems in newborns, where their hearts are too small for defects to be visible on normal MRI scans. *Enhance! (cit.)*"
   ]
  },
  {
   "cell_type": "markdown",
   "metadata": {},
   "source": [
    "### Final considerations"
   ]
  },
  {
   "cell_type": "markdown",
   "metadata": {},
   "source": [
    "- Supervised Learning implies the presence of a _supervisor_ in the data preparation, an expert *oracle* that provides the *correct* labels. This is typically either a human (which means limited data, human errors, time constraints, etc.), or (lately more common) another algorithm that is trusted to be exact (but have you ever heard of bug-free code?). In Deep Reinforcement Learning we will see that the reward function is learned through SL; in Self-Supervised Learning and in Embeddings applications it is typically an Unsupervised Learning algorithm to provide the oracle.\n",
    "- All applications of UL stem from two concepts:\n",
    "    - **Similarity**: similar things are put together, different things are separated.\n",
    "    - **Information**: data contains redundancy and noise which can be mitigated by studying/extracting global patterns and references. What interests us is the underlying *information*, the true behavior of the underlying generating function.\n",
    "- Unsupervised Learning is almost always present one way or another in complex applications, yet rarely recognized or credited for what it is -- it's always called something like \"embedding\", \"pre-processing\", \"cleaning\", \"aggregation\" etc. Plain \"UL\" is so old school that nobody wants to say they are doing it, basing their whole fancy Deep Learning models on its output. Learn to recognize when UL is applied, and the competence you gained today will find more applications than you imagine."
   ]
  }
 ],
 "metadata": {
  "kernelspec": {
   "display_name": "Python 3 (ipykernel)",
   "language": "python",
   "name": "python3"
  },
  "language_info": {
   "codemirror_mode": {
    "name": "ipython",
    "version": 3
   },
   "file_extension": ".py",
   "mimetype": "text/x-python",
   "name": "python",
   "nbconvert_exporter": "python",
   "pygments_lexer": "ipython3",
   "version": "3.8.3"
  }
 },
 "nbformat": 4,
 "nbformat_minor": 4
}
